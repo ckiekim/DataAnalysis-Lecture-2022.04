{
 "cells": [
  {
   "cell_type": "markdown",
   "metadata": {},
   "source": [
    "# 카카오 로컬 API 활용"
   ]
  },
  {
   "cell_type": "code",
   "execution_count": 1,
   "metadata": {},
   "outputs": [],
   "source": [
    "import requests\n",
    "from urllib.parse import quote\n",
    "import pandas as pd"
   ]
  },
  {
   "cell_type": "markdown",
   "metadata": {},
   "source": [
    "- API Key 가져오기"
   ]
  },
  {
   "cell_type": "code",
   "execution_count": 2,
   "metadata": {},
   "outputs": [
    {
     "data": {
      "text/plain": [
       "32"
      ]
     },
     "execution_count": 2,
     "metadata": {},
     "output_type": "execute_result"
    }
   ],
   "source": [
    "with open('kakaoapikey.txt') as file:\n",
    "    kakao_key = file.read()\n",
    "len(kakao_key)"
   ]
  },
  {
   "cell_type": "markdown",
   "metadata": {},
   "source": [
    "- URL 만들기"
   ]
  },
  {
   "cell_type": "code",
   "execution_count": 3,
   "metadata": {},
   "outputs": [
    {
     "data": {
      "text/plain": [
       "'https://dapi.kakao.com/v2/local/search/address.json?query=%EC%84%9C%EC%9A%B8%ED%8A%B9%EB%B3%84%EC%8B%9C%20%EC%84%9C%EC%B4%88%EA%B5%AC%20%EB%82%A8%EB%B6%80%EC%88%9C%ED%99%98%EB%A1%9C%202584%28%EC%84%9C%EC%B4%88%EB%8F%99%29'"
      ]
     },
     "execution_count": 3,
     "metadata": {},
     "output_type": "execute_result"
    }
   ],
   "source": [
    "local_url = 'https://dapi.kakao.com/v2/local/search/address.json'\n",
    "addr = '서울특별시 서초구 남부순환로 2584(서초동)'\n",
    "url = f'{local_url}?query={quote(addr)}'\n",
    "url"
   ]
  },
  {
   "cell_type": "code",
   "execution_count": 4,
   "metadata": {},
   "outputs": [],
   "source": [
    "# Header: \"Authorization: KakaoAK ${REST_API_KEY}\"\n",
    "header = {'Authorization': f'KakaoAK {kakao_key}'}"
   ]
  },
  {
   "cell_type": "code",
   "execution_count": 5,
   "metadata": {},
   "outputs": [
    {
     "data": {
      "text/plain": [
       "{'documents': [{'address': {'address_name': '서울 서초구 서초동 1376-3',\n",
       "    'b_code': '1165010800',\n",
       "    'h_code': '1165052000',\n",
       "    'main_address_no': '1376',\n",
       "    'mountain_yn': 'N',\n",
       "    'region_1depth_name': '서울',\n",
       "    'region_2depth_name': '서초구',\n",
       "    'region_3depth_h_name': '서초2동',\n",
       "    'region_3depth_name': '서초동',\n",
       "    'sub_address_no': '3',\n",
       "    'x': '127.032683002019',\n",
       "    'y': '37.4836248649455'},\n",
       "   'address_name': '서울 서초구 남부순환로 2584',\n",
       "   'address_type': 'ROAD_ADDR',\n",
       "   'road_address': {'address_name': '서울 서초구 남부순환로 2584',\n",
       "    'building_name': '서초구청, 서초구의회',\n",
       "    'main_building_no': '2584',\n",
       "    'region_1depth_name': '서울',\n",
       "    'region_2depth_name': '서초구',\n",
       "    'region_3depth_name': '서초동',\n",
       "    'road_name': '남부순환로',\n",
       "    'sub_building_no': '',\n",
       "    'underground_yn': 'N',\n",
       "    'x': '127.032683002019',\n",
       "    'y': '37.4836248649455',\n",
       "    'zone_no': '06750'},\n",
       "   'x': '127.032683002019',\n",
       "   'y': '37.4836248649455'}],\n",
       " 'meta': {'is_end': True, 'pageable_count': 1, 'total_count': 1}}"
      ]
     },
     "execution_count": 5,
     "metadata": {},
     "output_type": "execute_result"
    }
   ],
   "source": [
    "result = requests.get(url, headers=header).json()\n",
    "result"
   ]
  },
  {
   "cell_type": "code",
   "execution_count": null,
   "metadata": {},
   "outputs": [],
   "source": []
  }
 ],
 "metadata": {
  "interpreter": {
   "hash": "27cc1592400a49e29347d731bddc25ead99330001d369613af25ccd9674a593a"
  },
  "kernelspec": {
   "display_name": "Python 3.9.7 ('base')",
   "language": "python",
   "name": "python3"
  },
  "language_info": {
   "codemirror_mode": {
    "name": "ipython",
    "version": 3
   },
   "file_extension": ".py",
   "mimetype": "text/x-python",
   "name": "python",
   "nbconvert_exporter": "python",
   "pygments_lexer": "ipython3",
   "version": "3.9.7"
  },
  "orig_nbformat": 4
 },
 "nbformat": 4,
 "nbformat_minor": 2
}
