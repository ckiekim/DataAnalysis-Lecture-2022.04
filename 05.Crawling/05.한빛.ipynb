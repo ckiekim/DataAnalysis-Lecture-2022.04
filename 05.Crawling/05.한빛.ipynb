{
 "cells": [
  {
   "cell_type": "markdown",
   "metadata": {},
   "source": [
    "# 한빛출판네트워크 - 새로나온책 10 페이지\n",
    "- https://www.hanbit.co.kr/store/books/new_book_list.html\n",
    "- 제목, 저자, 출간일, 쪽수, 가격, 역자"
   ]
  },
  {
   "cell_type": "code",
   "execution_count": 1,
   "metadata": {},
   "outputs": [],
   "source": [
    "import requests, re\n",
    "import pandas as pd\n",
    "from bs4 import BeautifulSoup\n",
    "from tqdm.notebook import tqdm"
   ]
  },
  {
   "cell_type": "markdown",
   "metadata": {},
   "source": [
    "#### 1. 데이터 가져오기"
   ]
  },
  {
   "cell_type": "code",
   "execution_count": 2,
   "metadata": {},
   "outputs": [],
   "source": [
    "base_url = 'https://www.hanbit.co.kr'\n",
    "sub_url = '/store/books/new_book_list.html'\n",
    "url = base_url + sub_url\n",
    "res = requests.get(url)\n",
    "soup = BeautifulSoup(res.text, 'html.parser')"
   ]
  },
  {
   "cell_type": "markdown",
   "metadata": {},
   "source": [
    "#### 2. 찾으려고 하는 데이터 찾기"
   ]
  },
  {
   "cell_type": "code",
   "execution_count": 3,
   "metadata": {},
   "outputs": [
    {
     "data": {
      "text/plain": [
       "20"
      ]
     },
     "execution_count": 3,
     "metadata": {},
     "output_type": "execute_result"
    }
   ],
   "source": [
    "lis = soup.select('.sub_book_list')\n",
    "len(lis)"
   ]
  },
  {
   "cell_type": "markdown",
   "metadata": {},
   "source": [
    "#### 3. 하나의 데이터로 원하는 정보 추출"
   ]
  },
  {
   "cell_type": "code",
   "execution_count": 4,
   "metadata": {},
   "outputs": [
    {
     "data": {
      "text/plain": [
       "'/store/books/look.php?p_code=B2831223974'"
      ]
     },
     "execution_count": 4,
     "metadata": {},
     "output_type": "execute_result"
    }
   ],
   "source": [
    "li = lis[0]\n",
    "href = li.find('a')['href']\n",
    "href"
   ]
  },
  {
   "cell_type": "markdown",
   "metadata": {},
   "source": [
    "- sub page에서 정보를 가져옴"
   ]
  },
  {
   "cell_type": "code",
   "execution_count": 5,
   "metadata": {},
   "outputs": [],
   "source": [
    "res = requests.get(base_url + href)\n",
    "book_soup = BeautifulSoup(res.text, 'html.parser')"
   ]
  },
  {
   "cell_type": "code",
   "execution_count": 6,
   "metadata": {},
   "outputs": [
    {
     "data": {
      "text/plain": [
       "'엑셀이 편해지는 파이썬'"
      ]
     },
     "execution_count": 6,
     "metadata": {},
     "output_type": "execute_result"
    }
   ],
   "source": [
    "info = book_soup.select_one('.store_product_info_box')\n",
    "title = info.find('h3').string\n",
    "title"
   ]
  },
  {
   "cell_type": "code",
   "execution_count": 7,
   "metadata": {},
   "outputs": [
    {
     "data": {
      "text/plain": [
       "'펠릭스 춤슈타인'"
      ]
     },
     "execution_count": 7,
     "metadata": {},
     "output_type": "execute_result"
    }
   ],
   "source": [
    "book_lis = info.select('.info_list > li')\n",
    "author = book_lis[0].find('span').get_text().strip()\n",
    "author"
   ]
  },
  {
   "cell_type": "code",
   "execution_count": 8,
   "metadata": {},
   "outputs": [
    {
     "data": {
      "text/plain": [
       "'한선용'"
      ]
     },
     "execution_count": 8,
     "metadata": {},
     "output_type": "execute_result"
    }
   ],
   "source": [
    "if len(book_lis) == 5:\n",
    "    translator = '-'\n",
    "else:\n",
    "    translator = book_lis[1].find('span').get_text().strip()\n",
    "translator"
   ]
  },
  {
   "cell_type": "code",
   "execution_count": 9,
   "metadata": {},
   "outputs": [
    {
     "data": {
      "text/plain": [
       "'2022-04-20'"
      ]
     },
     "execution_count": 9,
     "metadata": {},
     "output_type": "execute_result"
    }
   ],
   "source": [
    "date = book_lis[-4].find('span').get_text().strip()\n",
    "date"
   ]
  },
  {
   "cell_type": "code",
   "execution_count": 10,
   "metadata": {},
   "outputs": [
    {
     "data": {
      "text/plain": [
       "388"
      ]
     },
     "execution_count": 10,
     "metadata": {},
     "output_type": "execute_result"
    }
   ],
   "source": [
    "page = book_lis[-3].find('span').get_text().strip().split()[0]\n",
    "page = int(page)\n",
    "page"
   ]
  },
  {
   "cell_type": "code",
   "execution_count": 12,
   "metadata": {},
   "outputs": [
    {
     "data": {
      "text/plain": [
       "25200"
      ]
     },
     "execution_count": 12,
     "metadata": {},
     "output_type": "execute_result"
    }
   ],
   "source": [
    "payments = book_soup.select_one('.payment_box.curr').find_all('p')\n",
    "sales = payments[1].select_one('.pbr').get_text().split('(')[0]\n",
    "sales = int(re.sub('[^0-9]','',sales))\n",
    "sales"
   ]
  },
  {
   "cell_type": "markdown",
   "metadata": {},
   "source": [
    "#### 4. 한 페이지에 있는 모든 데이터 추출"
   ]
  },
  {
   "cell_type": "code",
   "execution_count": 13,
   "metadata": {},
   "outputs": [],
   "source": [
    "lines = []\n",
    "for li in lis:\n",
    "    book_url = li.find('a')['href']\n",
    "    res = requests.get(base_url + book_url)\n",
    "    book_soup = BeautifulSoup(res.text, 'html.parser')\n",
    "\n",
    "    info = book_soup.select_one('.store_product_info_box')\n",
    "    title = info.find('h3').string\n",
    "    book_lis = info.select('.info_list > li')\n",
    "    author = book_lis[0].find('span').get_text().strip()\n",
    "    if len(book_lis) == 5:\n",
    "        translator = '-'\n",
    "    else:\n",
    "        translator = book_lis[1].find('span').get_text().strip()\n",
    "    date = book_lis[-4].find('span').get_text().strip()\n",
    "    page = book_lis[-3].find('span').get_text().strip().split()[0]\n",
    "    \n",
    "    payments = book_soup.select_one('.payment_box.curr').find_all('p')\n",
    "    sales = payments[1].select_one('.pbr').get_text().split('(')[0]\n",
    "    sales = int(re.sub('[^0-9]','',sales))\n",
    "\n",
    "    lines.append([title,author,translator,date,page,sales])"
   ]
  },
  {
   "cell_type": "code",
   "execution_count": 14,
   "metadata": {},
   "outputs": [
    {
     "data": {
      "text/html": [
       "<div>\n",
       "<style scoped>\n",
       "    .dataframe tbody tr th:only-of-type {\n",
       "        vertical-align: middle;\n",
       "    }\n",
       "\n",
       "    .dataframe tbody tr th {\n",
       "        vertical-align: top;\n",
       "    }\n",
       "\n",
       "    .dataframe thead th {\n",
       "        text-align: right;\n",
       "    }\n",
       "</style>\n",
       "<table border=\"1\" class=\"dataframe\">\n",
       "  <thead>\n",
       "    <tr style=\"text-align: right;\">\n",
       "      <th></th>\n",
       "      <th>제목</th>\n",
       "      <th>저자</th>\n",
       "      <th>번역</th>\n",
       "      <th>출간일</th>\n",
       "      <th>페이지</th>\n",
       "      <th>판매가</th>\n",
       "    </tr>\n",
       "  </thead>\n",
       "  <tbody>\n",
       "    <tr>\n",
       "      <th>15</th>\n",
       "      <td>맛있는 디자인 애프터 이펙트 CC 2022</td>\n",
       "      <td>이수정</td>\n",
       "      <td>-</td>\n",
       "      <td>2022-03-25</td>\n",
       "      <td>528</td>\n",
       "      <td>21600</td>\n",
       "    </tr>\n",
       "    <tr>\n",
       "      <th>16</th>\n",
       "      <td>STEM@CookBook, Beer의 정역학과 재료역학(3판)</td>\n",
       "      <td>Ferdinand P. Beer , E. Russell Johnston, Jr. ,...</td>\n",
       "      <td>김경식 , 박재균 , 오창국 , 이정휘</td>\n",
       "      <td>2022-03-22</td>\n",
       "      <td>772</td>\n",
       "      <td>39000</td>\n",
       "    </tr>\n",
       "    <tr>\n",
       "      <th>17</th>\n",
       "      <td>3일 만에 끝내는 초등 글쓰기 트레이닝 북</td>\n",
       "      <td>안도 히데아키</td>\n",
       "      <td>이정미 , 콩나물쌤 전병규(감수)</td>\n",
       "      <td>2022-03-21</td>\n",
       "      <td>172</td>\n",
       "      <td>11520</td>\n",
       "    </tr>\n",
       "    <tr>\n",
       "      <th>18</th>\n",
       "      <td>도메인 주도 개발 시작하기</td>\n",
       "      <td>최범균</td>\n",
       "      <td>-</td>\n",
       "      <td>2022-03-21</td>\n",
       "      <td>356</td>\n",
       "      <td>25200</td>\n",
       "    </tr>\n",
       "    <tr>\n",
       "      <th>19</th>\n",
       "      <td>STEIN 푸리에 해석학</td>\n",
       "      <td>ELIAS M. STEIN , RAMI SHAKARCHI</td>\n",
       "      <td>한빛수학교재연구소 , 이상혁(감수)</td>\n",
       "      <td>2022-03-18</td>\n",
       "      <td>348</td>\n",
       "      <td>38000</td>\n",
       "    </tr>\n",
       "  </tbody>\n",
       "</table>\n",
       "</div>"
      ],
      "text/plain": [
       "                                    제목  \\\n",
       "15             맛있는 디자인 애프터 이펙트 CC 2022   \n",
       "16  STEM@CookBook, Beer의 정역학과 재료역학(3판)   \n",
       "17             3일 만에 끝내는 초등 글쓰기 트레이닝 북   \n",
       "18                      도메인 주도 개발 시작하기   \n",
       "19                       STEIN 푸리에 해석학   \n",
       "\n",
       "                                                   저자                     번역  \\\n",
       "15                                                이수정                      -   \n",
       "16  Ferdinand P. Beer , E. Russell Johnston, Jr. ,...  김경식 , 박재균 , 오창국 , 이정휘   \n",
       "17                                            안도 히데아키     이정미 , 콩나물쌤 전병규(감수)   \n",
       "18                                                최범균                      -   \n",
       "19                    ELIAS M. STEIN , RAMI SHAKARCHI    한빛수학교재연구소 , 이상혁(감수)   \n",
       "\n",
       "           출간일  페이지    판매가  \n",
       "15  2022-03-25  528  21600  \n",
       "16  2022-03-22  772  39000  \n",
       "17  2022-03-21  172  11520  \n",
       "18  2022-03-21  356  25200  \n",
       "19  2022-03-18  348  38000  "
      ]
     },
     "execution_count": 14,
     "metadata": {},
     "output_type": "execute_result"
    }
   ],
   "source": [
    "df = pd.DataFrame(lines, columns=['제목','저자','번역','출간일','페이지','판매가'])\n",
    "df.tail()"
   ]
  },
  {
   "cell_type": "markdown",
   "metadata": {},
   "source": [
    "#### 5. 모든 페이지의 데이터 가져오기"
   ]
  },
  {
   "cell_type": "code",
   "execution_count": 15,
   "metadata": {},
   "outputs": [
    {
     "data": {
      "application/vnd.jupyter.widget-view+json": {
       "model_id": "8b5d7776091a44358397438b0d3bd565",
       "version_major": 2,
       "version_minor": 0
      },
      "text/plain": [
       "  0%|          | 0/10 [00:00<?, ?it/s]"
      ]
     },
     "metadata": {},
     "output_type": "display_data"
    }
   ],
   "source": [
    "lines = []\n",
    "for page in tqdm(range(1,11)):\n",
    "    url = f'{base_url}{sub_url}?page={page}'\n",
    "    res = requests.get(url)\n",
    "    soup = BeautifulSoup(res.text, 'html.parser')\n",
    "    lis = soup.select('.sub_book_list')\n",
    "\n",
    "    for li in lis:\n",
    "        book_url = li.find('a')['href']\n",
    "        res = requests.get(base_url + book_url)\n",
    "        book_soup = BeautifulSoup(res.text, 'html.parser')\n",
    "\n",
    "        info = book_soup.select_one('.store_product_info_box')\n",
    "        title = info.find('h3').string\n",
    "        book_lis = info.select('.info_list > li')\n",
    "        author = book_lis[0].find('span').get_text().strip()\n",
    "        if len(book_lis) == 5:\n",
    "            translator = '-'\n",
    "        else:\n",
    "            translator = book_lis[1].find('span').get_text().strip()\n",
    "        date = book_lis[-4].find('span').get_text().strip()\n",
    "        page = book_lis[-3].find('span').get_text().strip().split()[0]\n",
    "        \n",
    "        payments = book_soup.select_one('.payment_box.curr').find_all('p')\n",
    "        sales = payments[1].select_one('.pbr').get_text().split('(')[0]\n",
    "        sales = int(re.sub('[^0-9]','',sales))\n",
    "\n",
    "        lines.append([title,author,translator,date,page,sales])"
   ]
  },
  {
   "cell_type": "code",
   "execution_count": 16,
   "metadata": {},
   "outputs": [
    {
     "data": {
      "text/html": [
       "<div>\n",
       "<style scoped>\n",
       "    .dataframe tbody tr th:only-of-type {\n",
       "        vertical-align: middle;\n",
       "    }\n",
       "\n",
       "    .dataframe tbody tr th {\n",
       "        vertical-align: top;\n",
       "    }\n",
       "\n",
       "    .dataframe thead th {\n",
       "        text-align: right;\n",
       "    }\n",
       "</style>\n",
       "<table border=\"1\" class=\"dataframe\">\n",
       "  <thead>\n",
       "    <tr style=\"text-align: right;\">\n",
       "      <th></th>\n",
       "      <th>제목</th>\n",
       "      <th>저자</th>\n",
       "      <th>번역</th>\n",
       "      <th>출간일</th>\n",
       "      <th>페이지</th>\n",
       "      <th>판매가</th>\n",
       "    </tr>\n",
       "  </thead>\n",
       "  <tbody>\n",
       "    <tr>\n",
       "      <th>195</th>\n",
       "      <td>풀스택 서버리스 :  리액트, AWS, 그래프QL을 이용한 최신 애플리케이션 개발</td>\n",
       "      <td>네이더 다빗</td>\n",
       "      <td>김범준</td>\n",
       "      <td>2021-07-05</td>\n",
       "      <td>216</td>\n",
       "      <td>18900</td>\n",
       "    </tr>\n",
       "    <tr>\n",
       "      <th>196</th>\n",
       "      <td>한 권으로 배우는 작고 예쁜 꽃자수</td>\n",
       "      <td>장미나(미나랜드)</td>\n",
       "      <td>-</td>\n",
       "      <td>2021-07-05</td>\n",
       "      <td>240</td>\n",
       "      <td>16200</td>\n",
       "    </tr>\n",
       "    <tr>\n",
       "      <th>197</th>\n",
       "      <td>IT CookBook, 처음 만나는 회로이론(2판)</td>\n",
       "      <td>방성완</td>\n",
       "      <td>2021-07-02</td>\n",
       "      <td>400 쪽</td>\n",
       "      <td>9791156645474</td>\n",
       "      <td>23000</td>\n",
       "    </tr>\n",
       "    <tr>\n",
       "      <th>198</th>\n",
       "      <td>안전필수 시스템 제어 설계</td>\n",
       "      <td>김국헌 , 김태효 , 이성섭</td>\n",
       "      <td>-</td>\n",
       "      <td>2021-07-02</td>\n",
       "      <td>488</td>\n",
       "      <td>38000</td>\n",
       "    </tr>\n",
       "    <tr>\n",
       "      <th>199</th>\n",
       "      <td>데이터 스토리</td>\n",
       "      <td>낸시 두아르테</td>\n",
       "      <td>권혜정 , 윤영진(감수)</td>\n",
       "      <td>2021-07-01</td>\n",
       "      <td>240</td>\n",
       "      <td>19800</td>\n",
       "    </tr>\n",
       "  </tbody>\n",
       "</table>\n",
       "</div>"
      ],
      "text/plain": [
       "                                                제목               저자  \\\n",
       "195  풀스택 서버리스 :  리액트, AWS, 그래프QL을 이용한 최신 애플리케이션 개발           네이더 다빗   \n",
       "196                            한 권으로 배우는 작고 예쁜 꽃자수        장미나(미나랜드)   \n",
       "197                   IT CookBook, 처음 만나는 회로이론(2판)              방성완   \n",
       "198                                 안전필수 시스템 제어 설계  김국헌 , 김태효 , 이성섭   \n",
       "199                                        데이터 스토리          낸시 두아르테   \n",
       "\n",
       "                번역         출간일            페이지    판매가  \n",
       "195            김범준  2021-07-05            216  18900  \n",
       "196              -  2021-07-05            240  16200  \n",
       "197     2021-07-02       400 쪽  9791156645474  23000  \n",
       "198              -  2021-07-02            488  38000  \n",
       "199  권혜정 , 윤영진(감수)  2021-07-01            240  19800  "
      ]
     },
     "execution_count": 16,
     "metadata": {},
     "output_type": "execute_result"
    }
   ],
   "source": [
    "df = pd.DataFrame(lines, columns=['제목','저자','번역','출간일','페이지','판매가'])\n",
    "df.tail()"
   ]
  },
  {
   "cell_type": "code",
   "execution_count": 17,
   "metadata": {},
   "outputs": [],
   "source": [
    "df.to_csv('한빛신규도서.csv', index=False)"
   ]
  },
  {
   "cell_type": "code",
   "execution_count": null,
   "metadata": {},
   "outputs": [],
   "source": []
  }
 ],
 "metadata": {
  "interpreter": {
   "hash": "27cc1592400a49e29347d731bddc25ead99330001d369613af25ccd9674a593a"
  },
  "kernelspec": {
   "display_name": "Python 3.9.7 ('base')",
   "language": "python",
   "name": "python3"
  },
  "language_info": {
   "codemirror_mode": {
    "name": "ipython",
    "version": 3
   },
   "file_extension": ".py",
   "mimetype": "text/x-python",
   "name": "python",
   "nbconvert_exporter": "python",
   "pygments_lexer": "ipython3",
   "version": "3.9.7"
  },
  "orig_nbformat": 4
 },
 "nbformat": 4,
 "nbformat_minor": 2
}
