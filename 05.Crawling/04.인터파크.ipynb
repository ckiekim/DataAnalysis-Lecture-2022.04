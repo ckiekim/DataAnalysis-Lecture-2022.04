{
 "cells": [
  {
   "cell_type": "markdown",
   "metadata": {},
   "source": [
    "# 인터파크 베스트셀러 크롤링"
   ]
  },
  {
   "cell_type": "code",
   "execution_count": 36,
   "metadata": {},
   "outputs": [],
   "source": [
    "import requests, re\n",
    "import pandas as pd\n",
    "from bs4 import BeautifulSoup"
   ]
  },
  {
   "cell_type": "markdown",
   "metadata": {},
   "source": [
    "#### 1. 데이터 가져오기"
   ]
  },
  {
   "cell_type": "code",
   "execution_count": 50,
   "metadata": {},
   "outputs": [],
   "source": [
    "site = 'http://book.interpark.com'\n",
    "url = site + '/display/collectlist.do?_method=BestsellerHourNew201605&bestTp=1&dispNo=028&smid1=s_menu&smid2=bestseller'\n",
    "res = requests.get(url)"
   ]
  },
  {
   "cell_type": "code",
   "execution_count": 51,
   "metadata": {},
   "outputs": [],
   "source": [
    "soup = BeautifulSoup(res.text, 'html.parser')"
   ]
  },
  {
   "cell_type": "markdown",
   "metadata": {},
   "source": [
    "#### 2. 원하는 데이터 찾기"
   ]
  },
  {
   "cell_type": "code",
   "execution_count": 52,
   "metadata": {},
   "outputs": [
    {
     "data": {
      "text/plain": [
       "15"
      ]
     },
     "execution_count": 52,
     "metadata": {},
     "output_type": "execute_result"
    }
   ],
   "source": [
    "lis = soup.select('.rankBestContentList > ol > li')\n",
    "len(lis)"
   ]
  },
  {
   "cell_type": "markdown",
   "metadata": {},
   "source": [
    "#### 3. 하나의 데이터로 원하는 정보 찾기"
   ]
  },
  {
   "cell_type": "code",
   "execution_count": 63,
   "metadata": {},
   "outputs": [
    {
     "data": {
      "text/plain": [
       "'/product/BookDisplay.do?_method=detail&sc.shopNo=0000400000&sc.prdNo=354534408&sc.saNo=003003001&bid1=Best_zone&bid2=LiveRanking&bid3=PRD&bid4=001'"
      ]
     },
     "execution_count": 63,
     "metadata": {},
     "output_type": "execute_result"
    }
   ],
   "source": [
    "li = lis[9]\n",
    "href = li.select_one('.coverImage').find('a')['href']\n",
    "href"
   ]
  },
  {
   "cell_type": "code",
   "execution_count": 64,
   "metadata": {},
   "outputs": [
    {
     "data": {
      "text/plain": [
       "'놓아주는 엄마 주도하는 아이'"
      ]
     },
     "execution_count": 64,
     "metadata": {},
     "output_type": "execute_result"
    }
   ],
   "source": [
    "# 책 제목\n",
    "title = li.select_one('.itemName').get_text().strip()\n",
    "title"
   ]
  },
  {
   "cell_type": "code",
   "execution_count": 65,
   "metadata": {},
   "outputs": [
    {
     "data": {
      "text/plain": [
       "'쌤앤파커스'"
      ]
     },
     "execution_count": 65,
     "metadata": {},
     "output_type": "execute_result"
    }
   ],
   "source": [
    "# 출판사\n",
    "company = li.select_one('.company').get_text().strip()\n",
    "company"
   ]
  },
  {
   "cell_type": "code",
   "execution_count": 66,
   "metadata": {},
   "outputs": [
    {
     "data": {
      "text/plain": [
       "15750"
      ]
     },
     "execution_count": 66,
     "metadata": {},
     "output_type": "execute_result"
    }
   ],
   "source": [
    "# 가격\n",
    "price = li.select_one('.price > em').get_text()\n",
    "price = int(price.replace(',',''))\n",
    "price"
   ]
  },
  {
   "cell_type": "markdown",
   "metadata": {},
   "source": [
    "- 순위: 1위 ~ 9위"
   ]
  },
  {
   "cell_type": "code",
   "execution_count": 57,
   "metadata": {},
   "outputs": [
    {
     "data": {
      "text/plain": [
       "<span class=\"rankBtn_ctrl rkNum_B01\"></span>"
      ]
     },
     "execution_count": 57,
     "metadata": {},
     "output_type": "execute_result"
    }
   ],
   "source": [
    "li.select_one('.rankBtn_ctrl')"
   ]
  },
  {
   "cell_type": "code",
   "execution_count": 58,
   "metadata": {},
   "outputs": [
    {
     "data": {
      "text/plain": [
       "['rankBtn_ctrl', 'rkNum_B01']"
      ]
     },
     "execution_count": 58,
     "metadata": {},
     "output_type": "execute_result"
    }
   ],
   "source": [
    "li.select_one('.rankBtn_ctrl')['class']"
   ]
  },
  {
   "cell_type": "code",
   "execution_count": 59,
   "metadata": {},
   "outputs": [
    {
     "data": {
      "text/plain": [
       "'rkNum_B01'"
      ]
     },
     "execution_count": 59,
     "metadata": {},
     "output_type": "execute_result"
    }
   ],
   "source": [
    "li.select_one('.rankBtn_ctrl')['class'][1]"
   ]
  },
  {
   "cell_type": "code",
   "execution_count": 60,
   "metadata": {},
   "outputs": [
    {
     "data": {
      "text/plain": [
       "'1'"
      ]
     },
     "execution_count": 60,
     "metadata": {},
     "output_type": "execute_result"
    }
   ],
   "source": [
    "li.select_one('.rankBtn_ctrl')['class'][1][-1]"
   ]
  },
  {
   "cell_type": "code",
   "execution_count": 61,
   "metadata": {},
   "outputs": [
    {
     "data": {
      "text/plain": [
       "1"
      ]
     },
     "execution_count": 61,
     "metadata": {},
     "output_type": "execute_result"
    }
   ],
   "source": [
    "rank = int(li.select_one('.rankBtn_ctrl')['class'][1][-1])\n",
    "rank"
   ]
  },
  {
   "cell_type": "markdown",
   "metadata": {},
   "source": [
    "- 10위 ~ 15위"
   ]
  },
  {
   "cell_type": "code",
   "execution_count": 23,
   "metadata": {},
   "outputs": [],
   "source": [
    "element = '<div class=\"rankNumber digit2\"><span class=\"rankBtn_ctrl rkNum_M01 \"></span><span class=\"rankBtn_ctrl rkNum_M00 \"></span>           </div>'\n",
    "mini_soup = BeautifulSoup(element, 'html.parser')"
   ]
  },
  {
   "cell_type": "code",
   "execution_count": 24,
   "metadata": {},
   "outputs": [
    {
     "data": {
      "text/plain": [
       "[<span class=\"rankBtn_ctrl rkNum_M01\"></span>,\n",
       " <span class=\"rankBtn_ctrl rkNum_M00\"></span>]"
      ]
     },
     "execution_count": 24,
     "metadata": {},
     "output_type": "execute_result"
    }
   ],
   "source": [
    "mini_soup.select('.rankBtn_ctrl')"
   ]
  },
  {
   "cell_type": "markdown",
   "metadata": {},
   "source": [
    "- 모든 경우에 대처"
   ]
  },
  {
   "cell_type": "code",
   "execution_count": 67,
   "metadata": {},
   "outputs": [
    {
     "data": {
      "text/plain": [
       "10"
      ]
     },
     "execution_count": 67,
     "metadata": {},
     "output_type": "execute_result"
    }
   ],
   "source": [
    "rank_data = li.select('.rankBtn_ctrl')\n",
    "if len(li.select('.rankBtn_ctrl')) == 1:\n",
    "    rank = int(rank_data[0]['class'][1][-1])\n",
    "else:\n",
    "    rank = rank_data[0]['class'][1][-1] + rank_data[1]['class'][1][-1]\n",
    "    rank = int(rank)\n",
    "rank"
   ]
  },
  {
   "cell_type": "markdown",
   "metadata": {},
   "source": [
    "- Sub page"
   ]
  },
  {
   "cell_type": "code",
   "execution_count": 68,
   "metadata": {},
   "outputs": [],
   "source": [
    "url = site + href\n",
    "res = requests.get(url)\n",
    "sub_soup = BeautifulSoup(res.text, 'html.parser')"
   ]
  },
  {
   "cell_type": "code",
   "execution_count": 69,
   "metadata": {},
   "outputs": [
    {
     "data": {
      "text/plain": [
       "6"
      ]
     },
     "execution_count": 69,
     "metadata": {},
     "output_type": "execute_result"
    }
   ],
   "source": [
    "sub_lis = sub_soup.select('.bInfo_txt > li')\n",
    "len(sub_lis)"
   ]
  },
  {
   "cell_type": "code",
   "execution_count": 70,
   "metadata": {},
   "outputs": [
    {
     "name": "stdout",
     "output_type": "stream",
     "text": [
      "저 : 윌리엄 스틱스러드, 네드 존슨\n",
      "역 : 이영래\n",
      "출판사 : 쌤앤파커스\n",
      "발행 : 2022년 03월 02일\n",
      "쪽수 : 288\n",
      "ISBN : 9791165344719\n"
     ]
    }
   ],
   "source": [
    "for li in sub_lis:\n",
    "    print(li.get_text())"
   ]
  },
  {
   "cell_type": "code",
   "execution_count": 72,
   "metadata": {},
   "outputs": [
    {
     "name": "stdout",
     "output_type": "stream",
     "text": [
      "20220302 288 이영래 윌리엄 스틱스러드, 네드 존슨\n"
     ]
    }
   ],
   "source": [
    "trans = '-'\n",
    "for li in sub_lis:\n",
    "    text = li.get_text().strip()\n",
    "    if '발행 :' in text:\n",
    "        date = text.split(':')[1].strip()\n",
    "        date = re.sub('[^0-9]','',date)\n",
    "    elif '쪽수 :' in text:\n",
    "        page = int(text.split(':')[1].strip())\n",
    "    elif '역 :' in text:\n",
    "        trans = text.split(':')[1].strip()\n",
    "    elif '저 :' in text:\n",
    "        author = text.split(':')[1].strip()\n",
    "print(date, page, trans, author)"
   ]
  },
  {
   "cell_type": "markdown",
   "metadata": {},
   "source": [
    "#### 4. 페이지에 있는 모든 데이터 추출"
   ]
  },
  {
   "cell_type": "code",
   "execution_count": 44,
   "metadata": {},
   "outputs": [],
   "source": [
    "from tqdm.notebook import tqdm"
   ]
  },
  {
   "cell_type": "code",
   "execution_count": 73,
   "metadata": {},
   "outputs": [
    {
     "data": {
      "application/vnd.jupyter.widget-view+json": {
       "model_id": "ba217989109046b1a3874c7c0e4ef027",
       "version_major": 2,
       "version_minor": 0
      },
      "text/plain": [
       "  0%|          | 0/15 [00:00<?, ?it/s]"
      ]
     },
     "metadata": {},
     "output_type": "display_data"
    }
   ],
   "source": [
    "lines = []\n",
    "for li in tqdm(lis):\n",
    "    href = li.select_one('.coverImage').find('a')['href']\n",
    "    title = li.select_one('.itemName').get_text().strip()\n",
    "    company = li.select_one('.company').get_text().strip()\n",
    "    price = li.select_one('.price > em').get_text()\n",
    "    price = int(price.replace(',',''))\n",
    "    rank_data = li.select('.rankBtn_ctrl')\n",
    "    if len(li.select('.rankBtn_ctrl')) == 1:\n",
    "        rank = int(rank_data[0]['class'][1][-1])\n",
    "    else:\n",
    "        rank = rank_data[0]['class'][1][-1] + rank_data[1]['class'][1][-1]\n",
    "        rank = int(rank)\n",
    "\n",
    "    url = site + href\n",
    "    res = requests.get(url)\n",
    "    sub_soup = BeautifulSoup(res.text, 'html.parser')\n",
    "    sub_lis = sub_soup.select('.bInfo_txt > li')\n",
    "    trans = '-'\n",
    "    for li in sub_lis:\n",
    "        text = li.get_text().strip()\n",
    "        if '발행 :' in text:\n",
    "            date = text.split(':')[1].strip()\n",
    "            date = re.sub('[^0-9]','',date)\n",
    "        elif '쪽수 :' in text:\n",
    "            page = int(text.split(':')[1].strip())\n",
    "        elif '역 :' in text:\n",
    "            trans = text.split(':')[1].strip()\n",
    "        elif '저 :' in text:\n",
    "            author = text.split(':')[1].strip()\n",
    "\n",
    "    lines.append([rank, title, author, trans, company, page, date, price])"
   ]
  },
  {
   "cell_type": "markdown",
   "metadata": {},
   "source": [
    "#### 5. 데이터프레임 만들고 데이터 저장"
   ]
  },
  {
   "cell_type": "code",
   "execution_count": 74,
   "metadata": {},
   "outputs": [
    {
     "data": {
      "text/html": [
       "<div>\n",
       "<style scoped>\n",
       "    .dataframe tbody tr th:only-of-type {\n",
       "        vertical-align: middle;\n",
       "    }\n",
       "\n",
       "    .dataframe tbody tr th {\n",
       "        vertical-align: top;\n",
       "    }\n",
       "\n",
       "    .dataframe thead th {\n",
       "        text-align: right;\n",
       "    }\n",
       "</style>\n",
       "<table border=\"1\" class=\"dataframe\">\n",
       "  <thead>\n",
       "    <tr style=\"text-align: right;\">\n",
       "      <th></th>\n",
       "      <th>순위</th>\n",
       "      <th>제목</th>\n",
       "      <th>저자</th>\n",
       "      <th>역자</th>\n",
       "      <th>출판사</th>\n",
       "      <th>쪽수</th>\n",
       "      <th>발행일</th>\n",
       "      <th>가격</th>\n",
       "    </tr>\n",
       "  </thead>\n",
       "  <tbody>\n",
       "    <tr>\n",
       "      <th>0</th>\n",
       "      <td>1</td>\n",
       "      <td>저주토끼</td>\n",
       "      <td>정보라</td>\n",
       "      <td>-</td>\n",
       "      <td>아작</td>\n",
       "      <td>328</td>\n",
       "      <td>20220401</td>\n",
       "      <td>13320</td>\n",
       "    </tr>\n",
       "    <tr>\n",
       "      <th>1</th>\n",
       "      <td>2</td>\n",
       "      <td>긴긴밤</td>\n",
       "      <td>루리</td>\n",
       "      <td>-</td>\n",
       "      <td>문학동네</td>\n",
       "      <td>144</td>\n",
       "      <td>20210203</td>\n",
       "      <td>10350</td>\n",
       "    </tr>\n",
       "    <tr>\n",
       "      <th>2</th>\n",
       "      <td>3</td>\n",
       "      <td>웰씽킹(10만 부 기념 한정판 골드 에디션)</td>\n",
       "      <td>켈리 최</td>\n",
       "      <td>-</td>\n",
       "      <td>다산북스</td>\n",
       "      <td>316</td>\n",
       "      <td>20211110</td>\n",
       "      <td>14400</td>\n",
       "    </tr>\n",
       "    <tr>\n",
       "      <th>3</th>\n",
       "      <td>3</td>\n",
       "      <td>럭키(10만부 기념 황금열쇠 양장 특별판)</td>\n",
       "      <td>김도윤</td>\n",
       "      <td>-</td>\n",
       "      <td>북로망스</td>\n",
       "      <td>280</td>\n",
       "      <td>20210825</td>\n",
       "      <td>14400</td>\n",
       "    </tr>\n",
       "    <tr>\n",
       "      <th>4</th>\n",
       "      <td>5</td>\n",
       "      <td>김학렬의 부동산 투자 절대 원칙</td>\n",
       "      <td>김학렬(빠숑)</td>\n",
       "      <td>-</td>\n",
       "      <td>에프엔미디어</td>\n",
       "      <td>540</td>\n",
       "      <td>20220412</td>\n",
       "      <td>22500</td>\n",
       "    </tr>\n",
       "    <tr>\n",
       "      <th>5</th>\n",
       "      <td>5</td>\n",
       "      <td>꽃샘바람에 흔들린다면 너는 꽃</td>\n",
       "      <td>류시화</td>\n",
       "      <td>-</td>\n",
       "      <td>수오서재</td>\n",
       "      <td>160</td>\n",
       "      <td>20220411</td>\n",
       "      <td>12150</td>\n",
       "    </tr>\n",
       "    <tr>\n",
       "      <th>6</th>\n",
       "      <td>5</td>\n",
       "      <td>파이어 FIRE</td>\n",
       "      <td>강환국</td>\n",
       "      <td>-</td>\n",
       "      <td>페이지2북스</td>\n",
       "      <td>428</td>\n",
       "      <td>20220408</td>\n",
       "      <td>16200</td>\n",
       "    </tr>\n",
       "    <tr>\n",
       "      <th>7</th>\n",
       "      <td>8</td>\n",
       "      <td>머니 체인저</td>\n",
       "      <td>문준희</td>\n",
       "      <td>-</td>\n",
       "      <td>마인드셋(Mindset)</td>\n",
       "      <td>284</td>\n",
       "      <td>20220411</td>\n",
       "      <td>14400</td>\n",
       "    </tr>\n",
       "    <tr>\n",
       "      <th>8</th>\n",
       "      <td>8</td>\n",
       "      <td>파이어족 강환국의 하면 된다! 퀀트 투자</td>\n",
       "      <td>강환국</td>\n",
       "      <td>-</td>\n",
       "      <td>에프엔미디어</td>\n",
       "      <td>392</td>\n",
       "      <td>20210915</td>\n",
       "      <td>16830</td>\n",
       "    </tr>\n",
       "    <tr>\n",
       "      <th>9</th>\n",
       "      <td>10</td>\n",
       "      <td>놓아주는 엄마 주도하는 아이</td>\n",
       "      <td>윌리엄 스틱스러드, 네드 존슨</td>\n",
       "      <td>이영래</td>\n",
       "      <td>쌤앤파커스</td>\n",
       "      <td>288</td>\n",
       "      <td>20220302</td>\n",
       "      <td>15750</td>\n",
       "    </tr>\n",
       "    <tr>\n",
       "      <th>10</th>\n",
       "      <td>10</td>\n",
       "      <td>세계 헤어웨어 이야기</td>\n",
       "      <td>원종훈, 김영휴</td>\n",
       "      <td>-</td>\n",
       "      <td>아마존북스</td>\n",
       "      <td>328</td>\n",
       "      <td>20220110</td>\n",
       "      <td>15300</td>\n",
       "    </tr>\n",
       "    <tr>\n",
       "      <th>11</th>\n",
       "      <td>10</td>\n",
       "      <td>긴긴밤(큰 판형)</td>\n",
       "      <td>루리</td>\n",
       "      <td>-</td>\n",
       "      <td>문학동네</td>\n",
       "      <td>152</td>\n",
       "      <td>20211215</td>\n",
       "      <td>16200</td>\n",
       "    </tr>\n",
       "    <tr>\n",
       "      <th>12</th>\n",
       "      <td>10</td>\n",
       "      <td>불편한 편의점(40만부 기념 벚꽃 에디션)</td>\n",
       "      <td>김호연</td>\n",
       "      <td>-</td>\n",
       "      <td>나무옆의자</td>\n",
       "      <td>268</td>\n",
       "      <td>20210420</td>\n",
       "      <td>12600</td>\n",
       "    </tr>\n",
       "    <tr>\n",
       "      <th>13</th>\n",
       "      <td>10</td>\n",
       "      <td>나는 3학년 2반 7번 애벌레</td>\n",
       "      <td>김원아</td>\n",
       "      <td>-</td>\n",
       "      <td>창비</td>\n",
       "      <td>104</td>\n",
       "      <td>20160411</td>\n",
       "      <td>8100</td>\n",
       "    </tr>\n",
       "    <tr>\n",
       "      <th>14</th>\n",
       "      <td>15</td>\n",
       "      <td>2022 큰별쌤 최태성의 별별한국사 기출 500제 한국사능력검정시험 심화(1.2.3급)</td>\n",
       "      <td>최태성</td>\n",
       "      <td>-</td>\n",
       "      <td>이투스북</td>\n",
       "      <td>392</td>\n",
       "      <td>20211221</td>\n",
       "      <td>17550</td>\n",
       "    </tr>\n",
       "  </tbody>\n",
       "</table>\n",
       "</div>"
      ],
      "text/plain": [
       "    순위                                                제목                저자  \\\n",
       "0    1                                              저주토끼               정보라   \n",
       "1    2                                               긴긴밤                루리   \n",
       "2    3                          웰씽킹(10만 부 기념 한정판 골드 에디션)              켈리 최   \n",
       "3    3                           럭키(10만부 기념 황금열쇠 양장 특별판)               김도윤   \n",
       "4    5                                 김학렬의 부동산 투자 절대 원칙           김학렬(빠숑)   \n",
       "5    5                                  꽃샘바람에 흔들린다면 너는 꽃               류시화   \n",
       "6    5                                          파이어 FIRE               강환국   \n",
       "7    8                                            머니 체인저               문준희   \n",
       "8    8                            파이어족 강환국의 하면 된다! 퀀트 투자               강환국   \n",
       "9   10                                   놓아주는 엄마 주도하는 아이  윌리엄 스틱스러드, 네드 존슨   \n",
       "10  10                                       세계 헤어웨어 이야기          원종훈, 김영휴   \n",
       "11  10                                         긴긴밤(큰 판형)                루리   \n",
       "12  10                           불편한 편의점(40만부 기념 벚꽃 에디션)               김호연   \n",
       "13  10                                  나는 3학년 2반 7번 애벌레               김원아   \n",
       "14  15  2022 큰별쌤 최태성의 별별한국사 기출 500제 한국사능력검정시험 심화(1.2.3급)               최태성   \n",
       "\n",
       "     역자            출판사   쪽수       발행일     가격  \n",
       "0     -             아작  328  20220401  13320  \n",
       "1     -           문학동네  144  20210203  10350  \n",
       "2     -           다산북스  316  20211110  14400  \n",
       "3     -           북로망스  280  20210825  14400  \n",
       "4     -         에프엔미디어  540  20220412  22500  \n",
       "5     -           수오서재  160  20220411  12150  \n",
       "6     -         페이지2북스  428  20220408  16200  \n",
       "7     -  마인드셋(Mindset)  284  20220411  14400  \n",
       "8     -         에프엔미디어  392  20210915  16830  \n",
       "9   이영래          쌤앤파커스  288  20220302  15750  \n",
       "10    -          아마존북스  328  20220110  15300  \n",
       "11    -           문학동네  152  20211215  16200  \n",
       "12    -          나무옆의자  268  20210420  12600  \n",
       "13    -             창비  104  20160411   8100  \n",
       "14    -           이투스북  392  20211221  17550  "
      ]
     },
     "execution_count": 74,
     "metadata": {},
     "output_type": "execute_result"
    }
   ],
   "source": [
    "df = pd.DataFrame(lines, columns=['순위','제목','저자','역자','출판사','쪽수','발행일','가격'])\n",
    "df"
   ]
  },
  {
   "cell_type": "code",
   "execution_count": 75,
   "metadata": {},
   "outputs": [],
   "source": [
    "df.to_csv('인터파크.csv', index=False)"
   ]
  },
  {
   "cell_type": "code",
   "execution_count": null,
   "metadata": {},
   "outputs": [],
   "source": []
  }
 ],
 "metadata": {
  "interpreter": {
   "hash": "27cc1592400a49e29347d731bddc25ead99330001d369613af25ccd9674a593a"
  },
  "kernelspec": {
   "display_name": "Python 3.9.7 ('base')",
   "language": "python",
   "name": "python3"
  },
  "language_info": {
   "codemirror_mode": {
    "name": "ipython",
    "version": 3
   },
   "file_extension": ".py",
   "mimetype": "text/x-python",
   "name": "python",
   "nbconvert_exporter": "python",
   "pygments_lexer": "ipython3",
   "version": "3.9.7"
  },
  "orig_nbformat": 4
 },
 "nbformat": 4,
 "nbformat_minor": 2
}
