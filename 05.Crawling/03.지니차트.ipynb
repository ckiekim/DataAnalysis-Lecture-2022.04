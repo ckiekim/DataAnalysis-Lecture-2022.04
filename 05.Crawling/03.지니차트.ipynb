{
 "cells": [
  {
   "cell_type": "markdown",
   "metadata": {},
   "source": [
    "# 지니 Top200 차트"
   ]
  },
  {
   "cell_type": "code",
   "execution_count": 1,
   "metadata": {},
   "outputs": [],
   "source": [
    "import requests\n",
    "import pandas as pd\n",
    "from bs4 import BeautifulSoup"
   ]
  },
  {
   "cell_type": "markdown",
   "metadata": {},
   "source": [
    "### 1. 인터넷에서 데이터 가져오기"
   ]
  },
  {
   "cell_type": "code",
   "execution_count": 2,
   "metadata": {},
   "outputs": [
    {
     "data": {
      "text/plain": [
       "'<br>\\r\\n<br>\\r\\n<center>\\r\\n<img src=\"http://www.geniemusic.co.kr/images/common/logo_r1.png\"><br>\\r\\n<h2> <meta http-equiv=\"Content-Type\" content=\"text/html;charset=UTF-8\"> ì\\xa0\\x91ì\\x86\\x8dì\\x9a\\x94ì²\\xadì\\x9d´ ë³´ì\\x95\\x88ì\\xa0\\x95ì±\\x85ì\\x97\\x90 ì\\x9d\\x98í\\x95´ ì°¨ë\\x8b¨ë\\x90\\x98ì\\x97\\x88ì\\x8aµë\\x8b\\x88ë\\x8b¤. ë\\x8b¹ì\\x82¬ ê³\\xa0ê°\\x9dì\\x84¼í\\x84°ë¡\\x9c ë¬¸ì\\x9d\\x98í\\x95´ì£¼ì\\x8b\\xadì\\x8b\\x9cì\\x98¤.<br><br>\\r\\nThe security policy of the connection request is blocked. Contact your customer service representative.<br><br>\\r\\nì§\\x80ë\\x8b\\x88ë®¤ì§\\x81 ê³\\xa0ê°\\x9dì\\x84¼í\\x84° 1577-5337<br><br>\\r\\n</h2>\\r\\n</center>\\r\\n<br>'"
      ]
     },
     "execution_count": 2,
     "metadata": {},
     "output_type": "execute_result"
    }
   ],
   "source": [
    "url = 'https://www.genie.co.kr/chart/top200'\n",
    "req = requests.get(url)\n",
    "req.text"
   ]
  },
  {
   "cell_type": "code",
   "execution_count": 3,
   "metadata": {},
   "outputs": [],
   "source": [
    "# Chrome User-Agent\n",
    "header = {'User-Agent': 'Mozilla/5.0 (Windows NT 10.0; Win64; x64) AppleWebKit/537.36 (KHTML, like Gecko) Chrome/100.0.4896.88 Safari/537.36'}\n",
    "req = requests.get(url, headers=header)\n",
    "soup = BeautifulSoup(req.text)"
   ]
  },
  {
   "cell_type": "markdown",
   "metadata": {},
   "source": [
    "### 2. 찾으려고 하는 데이터의 노드 찾기"
   ]
  },
  {
   "cell_type": "code",
   "execution_count": 4,
   "metadata": {},
   "outputs": [
    {
     "data": {
      "text/plain": [
       "50"
      ]
     },
     "execution_count": 4,
     "metadata": {},
     "output_type": "execute_result"
    }
   ],
   "source": [
    "trs = soup.select('tr.list')\n",
    "len(trs)"
   ]
  },
  {
   "cell_type": "code",
   "execution_count": 5,
   "metadata": {},
   "outputs": [
    {
     "data": {
      "text/plain": [
       "50"
      ]
     },
     "execution_count": 5,
     "metadata": {},
     "output_type": "execute_result"
    }
   ],
   "source": [
    "# 개발자 도구에서 찾아주는 Selector\n",
    "trs = soup.select('#body-content > div.newest-list > div > table > tbody > tr')\n",
    "len(trs)"
   ]
  },
  {
   "cell_type": "markdown",
   "metadata": {},
   "source": [
    "### 3. 여러개의 데이터 중 하나를 선택해서 원하는 정보를 추출"
   ]
  },
  {
   "cell_type": "code",
   "execution_count": 24,
   "metadata": {},
   "outputs": [],
   "source": [
    "tr = trs[12]"
   ]
  },
  {
   "cell_type": "code",
   "execution_count": 25,
   "metadata": {},
   "outputs": [
    {
     "data": {
      "text/plain": [
       "'13\\n                                        \\n                                    \\n2상승\\n\\n'"
      ]
     },
     "execution_count": 25,
     "metadata": {},
     "output_type": "execute_result"
    }
   ],
   "source": [
    "# rank\n",
    "tr.select_one('.number').get_text()"
   ]
  },
  {
   "cell_type": "code",
   "execution_count": 26,
   "metadata": {},
   "outputs": [
    {
     "data": {
      "text/plain": [
       "13"
      ]
     },
     "execution_count": 26,
     "metadata": {},
     "output_type": "execute_result"
    }
   ],
   "source": [
    "try:\n",
    "    rank = int(tr.select_one('.number').get_text().split('\\n')[0])\n",
    "except:\n",
    "    rank = 0\n",
    "rank"
   ]
  },
  {
   "cell_type": "code",
   "execution_count": 32,
   "metadata": {},
   "outputs": [
    {
     "data": {
      "text/plain": [
       "'abcdefu'"
      ]
     },
     "execution_count": 32,
     "metadata": {},
     "output_type": "execute_result"
    }
   ],
   "source": [
    "# 제목\n",
    "try:            # 일반적인 노래\n",
    "    title = tr.select_one('.title.ellipsis').string.strip()\n",
    "except:         # 19금 노래\n",
    "    title = tr.select_one('.title.ellipsis').get_text().split('\\n')[-1].strip()\n",
    "title"
   ]
  },
  {
   "cell_type": "code",
   "execution_count": 17,
   "metadata": {},
   "outputs": [
    {
     "data": {
      "text/plain": [
       "'BIGBANG (빅뱅)'"
      ]
     },
     "execution_count": 17,
     "metadata": {},
     "output_type": "execute_result"
    }
   ],
   "source": [
    "# artist\n",
    "artist = tr.select_one('.artist.ellipsis').text.strip()\n",
    "artist"
   ]
  },
  {
   "cell_type": "code",
   "execution_count": 20,
   "metadata": {},
   "outputs": [
    {
     "data": {
      "text/plain": [
       "'봄여름가을겨울 (Still Life)'"
      ]
     },
     "execution_count": 20,
     "metadata": {},
     "output_type": "execute_result"
    }
   ],
   "source": [
    "# album\n",
    "album = tr.select_one('.albumtitle.ellipsis').text.strip()\n",
    "album"
   ]
  },
  {
   "cell_type": "markdown",
   "metadata": {},
   "source": [
    "### 4. 한 페이지내에 있는 정보"
   ]
  },
  {
   "cell_type": "markdown",
   "metadata": {},
   "source": [
    "- 1) 개별 리스트로 가져오기"
   ]
  },
  {
   "cell_type": "code",
   "execution_count": 23,
   "metadata": {},
   "outputs": [
    {
     "name": "stdout",
     "output_type": "stream",
     "text": [
      "12\n"
     ]
    }
   ],
   "source": [
    "# 어디에서 오류가 발생하는지 확인\n",
    "rank_list, title_list, artist_list, album_list = [],[],[],[]\n",
    "for i, tr in enumerate(trs):\n",
    "    try:\n",
    "        rank = int(tr.select_one('.number').get_text().split('\\n')[0])\n",
    "    except:\n",
    "        rank = 0\n",
    "    try:\n",
    "        title = tr.select_one('.title.ellipsis').string.strip()\n",
    "        artist = tr.select_one('.artist.ellipsis').text.strip()\n",
    "        album = tr.select_one('.albumtitle.ellipsis').text.strip()\n",
    "    except:\n",
    "        print(i)\n",
    "    rank_list.append(rank)\n",
    "    title_list.append(title)\n",
    "    artist_list.append(artist)\n",
    "    album_list.append(album)"
   ]
  },
  {
   "cell_type": "code",
   "execution_count": 33,
   "metadata": {},
   "outputs": [],
   "source": [
    "rank_list, title_list, artist_list, album_list = [],[],[],[]\n",
    "for i, tr in enumerate(trs):\n",
    "    try:\n",
    "        rank = int(tr.select_one('.number').get_text().split('\\n')[0])\n",
    "    except:\n",
    "        rank = 0\n",
    "    try:            # 일반적인 노래\n",
    "        title = tr.select_one('.title.ellipsis').string.strip()\n",
    "    except:         # 19금 노래\n",
    "        title = tr.select_one('.title.ellipsis').get_text().split('\\n')[-1].strip()\n",
    "    artist = tr.select_one('.artist.ellipsis').text.strip()\n",
    "    album = tr.select_one('.albumtitle.ellipsis').text.strip()\n",
    "    rank_list.append(rank)\n",
    "    title_list.append(title)\n",
    "    artist_list.append(artist)\n",
    "    album_list.append(album)"
   ]
  },
  {
   "cell_type": "markdown",
   "metadata": {},
   "source": [
    "- 2) 줄단위로 딕셔너리 리스트를 만들기"
   ]
  },
  {
   "cell_type": "code",
   "execution_count": 37,
   "metadata": {},
   "outputs": [],
   "source": [
    "lines = []\n",
    "for i, tr in enumerate(trs):\n",
    "    try:\n",
    "        rank = int(tr.select_one('.number').get_text().split('\\n')[0])\n",
    "    except:\n",
    "        rank = 0\n",
    "    try:            # 일반적인 노래\n",
    "        title = tr.select_one('.title.ellipsis').string.strip()\n",
    "    except:         # 19금 노래\n",
    "        title = tr.select_one('.title.ellipsis').get_text().split('\\n')[-1].strip()\n",
    "    artist = tr.select_one('.artist.ellipsis').text.strip()\n",
    "    album = tr.select_one('.albumtitle.ellipsis').text.strip()\n",
    "    line = {'순위':rank, '제목':title, '아티스트':artist, '앨범':album}\n",
    "    lines.append(line)"
   ]
  },
  {
   "cell_type": "markdown",
   "metadata": {},
   "source": [
    "### 5. 데이터 프레임으로 만들기"
   ]
  },
  {
   "cell_type": "code",
   "execution_count": 35,
   "metadata": {},
   "outputs": [
    {
     "data": {
      "text/html": [
       "<div>\n",
       "<style scoped>\n",
       "    .dataframe tbody tr th:only-of-type {\n",
       "        vertical-align: middle;\n",
       "    }\n",
       "\n",
       "    .dataframe tbody tr th {\n",
       "        vertical-align: top;\n",
       "    }\n",
       "\n",
       "    .dataframe thead th {\n",
       "        text-align: right;\n",
       "    }\n",
       "</style>\n",
       "<table border=\"1\" class=\"dataframe\">\n",
       "  <thead>\n",
       "    <tr style=\"text-align: right;\">\n",
       "      <th></th>\n",
       "      <th>순위</th>\n",
       "      <th>제목</th>\n",
       "      <th>아티스트</th>\n",
       "      <th>앨범</th>\n",
       "    </tr>\n",
       "  </thead>\n",
       "  <tbody>\n",
       "    <tr>\n",
       "      <th>10</th>\n",
       "      <td>11</td>\n",
       "      <td>LOVE me</td>\n",
       "      <td>BE'O (비오)</td>\n",
       "      <td>LOVE me</td>\n",
       "    </tr>\n",
       "    <tr>\n",
       "      <th>11</th>\n",
       "      <td>12</td>\n",
       "      <td>다정히 내 이름을 부르면</td>\n",
       "      <td>경서예지 &amp; 전건호</td>\n",
       "      <td>다정히 내 이름을 부르면 (경서예지 x 전건호)</td>\n",
       "    </tr>\n",
       "    <tr>\n",
       "      <th>12</th>\n",
       "      <td>13</td>\n",
       "      <td>abcdefu</td>\n",
       "      <td>GAYLE</td>\n",
       "      <td>abcdefu</td>\n",
       "    </tr>\n",
       "    <tr>\n",
       "      <th>13</th>\n",
       "      <td>14</td>\n",
       "      <td>신호등</td>\n",
       "      <td>이무진</td>\n",
       "      <td>신호등</td>\n",
       "    </tr>\n",
       "    <tr>\n",
       "      <th>14</th>\n",
       "      <td>15</td>\n",
       "      <td>ELEVEN</td>\n",
       "      <td>IVE (아이브)</td>\n",
       "      <td>ELEVEN</td>\n",
       "    </tr>\n",
       "  </tbody>\n",
       "</table>\n",
       "</div>"
      ],
      "text/plain": [
       "    순위             제목        아티스트                          앨범\n",
       "10  11        LOVE me   BE'O (비오)                     LOVE me\n",
       "11  12  다정히 내 이름을 부르면  경서예지 & 전건호  다정히 내 이름을 부르면 (경서예지 x 전건호)\n",
       "12  13        abcdefu       GAYLE                     abcdefu\n",
       "13  14            신호등         이무진                         신호등\n",
       "14  15         ELEVEN   IVE (아이브)                      ELEVEN"
      ]
     },
     "execution_count": 35,
     "metadata": {},
     "output_type": "execute_result"
    }
   ],
   "source": [
    "df = pd.DataFrame({'순위':rank_list, '제목':title_list,\n",
    "                '아티스트':artist_list, '앨범':album_list})\n",
    "df.head(15).tail(5)"
   ]
  },
  {
   "cell_type": "code",
   "execution_count": 38,
   "metadata": {},
   "outputs": [
    {
     "data": {
      "text/html": [
       "<div>\n",
       "<style scoped>\n",
       "    .dataframe tbody tr th:only-of-type {\n",
       "        vertical-align: middle;\n",
       "    }\n",
       "\n",
       "    .dataframe tbody tr th {\n",
       "        vertical-align: top;\n",
       "    }\n",
       "\n",
       "    .dataframe thead th {\n",
       "        text-align: right;\n",
       "    }\n",
       "</style>\n",
       "<table border=\"1\" class=\"dataframe\">\n",
       "  <thead>\n",
       "    <tr style=\"text-align: right;\">\n",
       "      <th></th>\n",
       "      <th>순위</th>\n",
       "      <th>제목</th>\n",
       "      <th>아티스트</th>\n",
       "      <th>앨범</th>\n",
       "    </tr>\n",
       "  </thead>\n",
       "  <tbody>\n",
       "    <tr>\n",
       "      <th>10</th>\n",
       "      <td>11</td>\n",
       "      <td>LOVE me</td>\n",
       "      <td>BE'O (비오)</td>\n",
       "      <td>LOVE me</td>\n",
       "    </tr>\n",
       "    <tr>\n",
       "      <th>11</th>\n",
       "      <td>12</td>\n",
       "      <td>다정히 내 이름을 부르면</td>\n",
       "      <td>경서예지 &amp; 전건호</td>\n",
       "      <td>다정히 내 이름을 부르면 (경서예지 x 전건호)</td>\n",
       "    </tr>\n",
       "    <tr>\n",
       "      <th>12</th>\n",
       "      <td>13</td>\n",
       "      <td>abcdefu</td>\n",
       "      <td>GAYLE</td>\n",
       "      <td>abcdefu</td>\n",
       "    </tr>\n",
       "    <tr>\n",
       "      <th>13</th>\n",
       "      <td>14</td>\n",
       "      <td>신호등</td>\n",
       "      <td>이무진</td>\n",
       "      <td>신호등</td>\n",
       "    </tr>\n",
       "    <tr>\n",
       "      <th>14</th>\n",
       "      <td>15</td>\n",
       "      <td>ELEVEN</td>\n",
       "      <td>IVE (아이브)</td>\n",
       "      <td>ELEVEN</td>\n",
       "    </tr>\n",
       "  </tbody>\n",
       "</table>\n",
       "</div>"
      ],
      "text/plain": [
       "    순위             제목        아티스트                          앨범\n",
       "10  11        LOVE me   BE'O (비오)                     LOVE me\n",
       "11  12  다정히 내 이름을 부르면  경서예지 & 전건호  다정히 내 이름을 부르면 (경서예지 x 전건호)\n",
       "12  13        abcdefu       GAYLE                     abcdefu\n",
       "13  14            신호등         이무진                         신호등\n",
       "14  15         ELEVEN   IVE (아이브)                      ELEVEN"
      ]
     },
     "execution_count": 38,
     "metadata": {},
     "output_type": "execute_result"
    }
   ],
   "source": [
    "df = pd.DataFrame(lines)\n",
    "df.head(15).tail(5)"
   ]
  },
  {
   "cell_type": "markdown",
   "metadata": {},
   "source": [
    "### 6. 모든 페이지에 대해 가져오기"
   ]
  },
  {
   "cell_type": "code",
   "execution_count": 39,
   "metadata": {},
   "outputs": [],
   "source": [
    "lines = []\n",
    "for page in range(1,5):\n",
    "    url = f'https://www.genie.co.kr/chart/top200?ditc=D&ymd=20220415&hh=10&rtm=Y&pg={page}'\n",
    "    req = requests.get(url, headers=header)\n",
    "    soup = BeautifulSoup(req.text, 'html.parser')\n",
    "    trs = soup.select('tr.list')\n",
    "\n",
    "    for tr in trs:\n",
    "        try:\n",
    "            rank = int(tr.select_one('.number').get_text().split('\\n')[0])\n",
    "        except:\n",
    "            rank = 0\n",
    "        try:            # 일반적인 노래\n",
    "            title = tr.select_one('.title.ellipsis').string.strip()\n",
    "        except:         # 19금 노래\n",
    "            title = tr.select_one('.title.ellipsis').get_text().split('\\n')[-1].strip()\n",
    "        artist = tr.select_one('.artist.ellipsis').text.strip()\n",
    "        album = tr.select_one('.albumtitle.ellipsis').text.strip()\n",
    "        line = {'순위':rank, '제목':title, '아티스트':artist, '앨범':album}\n",
    "        lines.append(line)"
   ]
  },
  {
   "cell_type": "code",
   "execution_count": 40,
   "metadata": {},
   "outputs": [
    {
     "data": {
      "text/html": [
       "<div>\n",
       "<style scoped>\n",
       "    .dataframe tbody tr th:only-of-type {\n",
       "        vertical-align: middle;\n",
       "    }\n",
       "\n",
       "    .dataframe tbody tr th {\n",
       "        vertical-align: top;\n",
       "    }\n",
       "\n",
       "    .dataframe thead th {\n",
       "        text-align: right;\n",
       "    }\n",
       "</style>\n",
       "<table border=\"1\" class=\"dataframe\">\n",
       "  <thead>\n",
       "    <tr style=\"text-align: right;\">\n",
       "      <th></th>\n",
       "      <th>순위</th>\n",
       "      <th>제목</th>\n",
       "      <th>아티스트</th>\n",
       "      <th>앨범</th>\n",
       "    </tr>\n",
       "  </thead>\n",
       "  <tbody>\n",
       "    <tr>\n",
       "      <th>195</th>\n",
       "      <td>196</td>\n",
       "      <td>하루하루</td>\n",
       "      <td>BIGBANG (빅뱅)</td>\n",
       "      <td>Stand Up (2008 빅뱅 3rd Mini Album)</td>\n",
       "    </tr>\n",
       "    <tr>\n",
       "      <th>196</th>\n",
       "      <td>197</td>\n",
       "      <td>붉은 노을</td>\n",
       "      <td>BIGBANG (빅뱅)</td>\n",
       "      <td>REMEMBER</td>\n",
       "    </tr>\n",
       "    <tr>\n",
       "      <th>197</th>\n",
       "      <td>198</td>\n",
       "      <td>Saturday Drip</td>\n",
       "      <td>NCT DREAM</td>\n",
       "      <td>Glitch Mode - The 2nd Album</td>\n",
       "    </tr>\n",
       "    <tr>\n",
       "      <th>198</th>\n",
       "      <td>199</td>\n",
       "      <td>너, 너</td>\n",
       "      <td>스트레이 (The Stray)</td>\n",
       "      <td>her</td>\n",
       "    </tr>\n",
       "    <tr>\n",
       "      <th>199</th>\n",
       "      <td>200</td>\n",
       "      <td>어른</td>\n",
       "      <td>Sondia</td>\n",
       "      <td>나의 아저씨 OST Part. 2 (tvN 수목드라마)</td>\n",
       "    </tr>\n",
       "  </tbody>\n",
       "</table>\n",
       "</div>"
      ],
      "text/plain": [
       "      순위             제목              아티스트                                 앨범\n",
       "195  196           하루하루      BIGBANG (빅뱅)  Stand Up (2008 빅뱅 3rd Mini Album)\n",
       "196  197          붉은 노을      BIGBANG (빅뱅)                           REMEMBER\n",
       "197  198  Saturday Drip         NCT DREAM        Glitch Mode - The 2nd Album\n",
       "198  199           너, 너  스트레이 (The Stray)                                her\n",
       "199  200             어른            Sondia     나의 아저씨 OST Part. 2 (tvN 수목드라마)"
      ]
     },
     "execution_count": 40,
     "metadata": {},
     "output_type": "execute_result"
    }
   ],
   "source": [
    "df = pd.DataFrame(lines)\n",
    "df.tail()"
   ]
  },
  {
   "cell_type": "code",
   "execution_count": 41,
   "metadata": {},
   "outputs": [],
   "source": [
    "df.to_csv('지니차트Top200.csv', index=False)"
   ]
  },
  {
   "cell_type": "code",
   "execution_count": null,
   "metadata": {},
   "outputs": [],
   "source": []
  }
 ],
 "metadata": {
  "interpreter": {
   "hash": "27cc1592400a49e29347d731bddc25ead99330001d369613af25ccd9674a593a"
  },
  "kernelspec": {
   "display_name": "Python 3.9.7 ('base')",
   "language": "python",
   "name": "python3"
  },
  "language_info": {
   "codemirror_mode": {
    "name": "ipython",
    "version": 3
   },
   "file_extension": ".py",
   "mimetype": "text/x-python",
   "name": "python",
   "nbconvert_exporter": "python",
   "pygments_lexer": "ipython3",
   "version": "3.9.7"
  },
  "orig_nbformat": 4
 },
 "nbformat": 4,
 "nbformat_minor": 2
}
