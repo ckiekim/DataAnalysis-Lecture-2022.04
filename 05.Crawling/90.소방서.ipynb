{
 "cells": [
  {
   "cell_type": "code",
   "execution_count": 4,
   "metadata": {},
   "outputs": [],
   "source": [
    "import time\n",
    "from selenium import webdriver\n",
    "from selenium.webdriver.common.keys import Keys\n",
    "import pandas as pd\n",
    "from bs4 import BeautifulSoup"
   ]
  },
  {
   "cell_type": "code",
   "execution_count": 2,
   "metadata": {},
   "outputs": [],
   "source": [
    "import warnings\n",
    "warnings.filterwarnings('ignore')"
   ]
  },
  {
   "cell_type": "code",
   "execution_count": 37,
   "metadata": {},
   "outputs": [],
   "source": [
    "url = 'https://www.nfa.go.kr/nfa/introduce/status/firestationidfo/?searchDistance=10&searchMode=distance&myX=37.5108295&myY=127.0292881&searchKeyword='\n",
    "driver = webdriver.Chrome()\n",
    "driver.get(url)"
   ]
  },
  {
   "cell_type": "code",
   "execution_count": 38,
   "metadata": {},
   "outputs": [],
   "source": [
    "driver.find_element_by_id('searchKeyword').send_keys('서울')\n",
    "driver.find_element_by_id('fsSearchBtn').click()"
   ]
  },
  {
   "cell_type": "code",
   "execution_count": 18,
   "metadata": {},
   "outputs": [
    {
     "data": {
      "text/plain": [
       "10"
      ]
     },
     "execution_count": 18,
     "metadata": {},
     "output_type": "execute_result"
    }
   ],
   "source": [
    "soup = BeautifulSoup(driver.page_source, 'html.parser')\n",
    "lis = soup.select('.stations-list > li')\n",
    "len(lis)"
   ]
  },
  {
   "cell_type": "code",
   "execution_count": 19,
   "metadata": {},
   "outputs": [
    {
     "data": {
      "text/plain": [
       "'동작소방서'"
      ]
     },
     "execution_count": 19,
     "metadata": {},
     "output_type": "execute_result"
    }
   ],
   "source": [
    "li = lis[0]\n",
    "name = li.select_one('.title').get_text().strip()\n",
    "name"
   ]
  },
  {
   "cell_type": "code",
   "execution_count": 20,
   "metadata": {},
   "outputs": [
    {
     "data": {
      "text/plain": [
       "'서울특별시 동작구 여의대방로16길 55(신대방동)'"
      ]
     },
     "execution_count": 20,
     "metadata": {},
     "output_type": "execute_result"
    }
   ],
   "source": [
    "addr = li.find('address').get_text().strip()\n",
    "addr"
   ]
  },
  {
   "cell_type": "code",
   "execution_count": 21,
   "metadata": {},
   "outputs": [
    {
     "data": {
      "text/plain": [
       "'02-847-1190'"
      ]
     },
     "execution_count": 21,
     "metadata": {},
     "output_type": "execute_result"
    }
   ],
   "source": [
    "tel = li.select_one('.tel').get_text().strip()\n",
    "tel"
   ]
  },
  {
   "cell_type": "code",
   "execution_count": 22,
   "metadata": {},
   "outputs": [],
   "source": [
    "lines = []\n",
    "for li in lis:\n",
    "    name = li.select_one('.title').get_text().strip()\n",
    "    addr = li.find('address').get_text().strip()\n",
    "    tel = li.select_one('.tel').get_text().strip()\n",
    "    lines.append([name, addr, tel])"
   ]
  },
  {
   "cell_type": "code",
   "execution_count": 23,
   "metadata": {},
   "outputs": [
    {
     "data": {
      "text/plain": [
       "[['동작소방서', '서울특별시 동작구 여의대방로16길 55(신대방동)', '02-847-1190'],\n",
       " ['서대문소방서', '서울특별시 서대문구 연희로 182(연희동)', '02-3144-1190'],\n",
       " ['광진소방서', '서울특별시 광진구 광나루로 480(구의동)', '02-457-0119'],\n",
       " ['송파소방서', '서울특별시 송파구 오금로51길 56(마천동)', '02-403-2119'],\n",
       " ['양천소방서', '서울특별시 양천구 목동서로 180(목동)', '02-2655-1119'],\n",
       " ['은평소방서', '서울특별시 은평구 통일로 962(진관동)', '02-355-0119'],\n",
       " ['노원소방서', '서울특별시 노원구 한글비석로 1길 8(하계동)', '02-977-0119'],\n",
       " ['종로소방서', '서울특별시 종로구 종로1길 28(수송동)', '02-735-6119'],\n",
       " ['도봉소방서', '서울특별시 도봉구 도봉로 666(방학동)', '02-3492-3437'],\n",
       " ['용산소방서', '서울특별시 용산구 한강대로 167(한강로2가)', '02-794-0119']]"
      ]
     },
     "execution_count": 23,
     "metadata": {},
     "output_type": "execute_result"
    }
   ],
   "source": [
    "lines"
   ]
  },
  {
   "cell_type": "code",
   "execution_count": 29,
   "metadata": {},
   "outputs": [],
   "source": [
    "driver.find_element_by_xpath('//*[@id=\"listForm\"]/div/section/ul/li[1]/div/div/ul/li[4]/a').click()"
   ]
  },
  {
   "cell_type": "code",
   "execution_count": 39,
   "metadata": {},
   "outputs": [],
   "source": [
    "lines = []\n",
    "for i in range(10):\n",
    "    if i >= 1 and i%2 == 0:\n",
    "        driver.find_element_by_css_selector('.next_page').click()\n",
    "        time.sleep(2)\n",
    "    if i >= 1 and i%2 == 1:\n",
    "        driver.find_element_by_xpath('//*[@id=\"listForm\"]/div/section/ul/li[1]/div/div/ul/li[4]/a').click()\n",
    "        time.sleep(2)\n",
    "\n",
    "    soup = BeautifulSoup(driver.page_source, 'html.parser')\n",
    "    lis = soup.select('.stations-list > li')\n",
    "    for li in lis:\n",
    "        name = li.select_one('.title').get_text().strip()\n",
    "        addr = li.find('address').get_text().strip()\n",
    "        tel = li.select_one('.tel').get_text().strip()\n",
    "        lines.append([name, addr, tel])"
   ]
  },
  {
   "cell_type": "code",
   "execution_count": 40,
   "metadata": {},
   "outputs": [
    {
     "data": {
      "text/plain": [
       "100"
      ]
     },
     "execution_count": 40,
     "metadata": {},
     "output_type": "execute_result"
    }
   ],
   "source": [
    "len(lines)"
   ]
  },
  {
   "cell_type": "code",
   "execution_count": 41,
   "metadata": {},
   "outputs": [],
   "source": [
    "driver.close()"
   ]
  },
  {
   "cell_type": "code",
   "execution_count": 42,
   "metadata": {},
   "outputs": [
    {
     "data": {
      "text/html": [
       "<div>\n",
       "<style scoped>\n",
       "    .dataframe tbody tr th:only-of-type {\n",
       "        vertical-align: middle;\n",
       "    }\n",
       "\n",
       "    .dataframe tbody tr th {\n",
       "        vertical-align: top;\n",
       "    }\n",
       "\n",
       "    .dataframe thead th {\n",
       "        text-align: right;\n",
       "    }\n",
       "</style>\n",
       "<table border=\"1\" class=\"dataframe\">\n",
       "  <thead>\n",
       "    <tr style=\"text-align: right;\">\n",
       "      <th></th>\n",
       "      <th>관서명</th>\n",
       "      <th>주소</th>\n",
       "      <th>전화번호</th>\n",
       "    </tr>\n",
       "  </thead>\n",
       "  <tbody>\n",
       "    <tr>\n",
       "      <th>95</th>\n",
       "      <td>송파소방서-운동장-119 안전센터</td>\n",
       "      <td>서울특별시 송파구 올림픽로 25 (잠실동)</td>\n",
       "      <td>02-2203-2380</td>\n",
       "    </tr>\n",
       "    <tr>\n",
       "      <th>96</th>\n",
       "      <td>송파소방서-잠실-119 안전센터</td>\n",
       "      <td>서울특별시 송파구 석촌호수로 151 (잠실동)</td>\n",
       "      <td>02-422-0119</td>\n",
       "    </tr>\n",
       "    <tr>\n",
       "      <th>97</th>\n",
       "      <td>송파소방서-방이-119 안전센터</td>\n",
       "      <td>서울특별시 송파구 강동대로 286 (방이동)</td>\n",
       "      <td>02-409-0059</td>\n",
       "    </tr>\n",
       "    <tr>\n",
       "      <th>98</th>\n",
       "      <td>송파소방서-거여-119 안전센터</td>\n",
       "      <td>서울특별시 송파구 마천로 329 (마천동)</td>\n",
       "      <td>02-400-0119</td>\n",
       "    </tr>\n",
       "    <tr>\n",
       "      <th>99</th>\n",
       "      <td>송파소방서-마천-119 안전센터</td>\n",
       "      <td>서울특별시 송파구 오금로51길 56 (마천동)</td>\n",
       "      <td>02-3401-2119</td>\n",
       "    </tr>\n",
       "  </tbody>\n",
       "</table>\n",
       "</div>"
      ],
      "text/plain": [
       "                   관서명                         주소          전화번호\n",
       "95  송파소방서-운동장-119 안전센터    서울특별시 송파구 올림픽로 25 (잠실동)  02-2203-2380\n",
       "96   송파소방서-잠실-119 안전센터  서울특별시 송파구 석촌호수로 151 (잠실동)   02-422-0119\n",
       "97   송파소방서-방이-119 안전센터   서울특별시 송파구 강동대로 286 (방이동)   02-409-0059\n",
       "98   송파소방서-거여-119 안전센터    서울특별시 송파구 마천로 329 (마천동)   02-400-0119\n",
       "99   송파소방서-마천-119 안전센터  서울특별시 송파구 오금로51길 56 (마천동)  02-3401-2119"
      ]
     },
     "execution_count": 42,
     "metadata": {},
     "output_type": "execute_result"
    }
   ],
   "source": [
    "df = pd.DataFrame(lines, columns=['관서명','주소','전화번호'])\n",
    "df.tail()"
   ]
  },
  {
   "cell_type": "code",
   "execution_count": 43,
   "metadata": {},
   "outputs": [
    {
     "data": {
      "text/html": [
       "<div>\n",
       "<style scoped>\n",
       "    .dataframe tbody tr th:only-of-type {\n",
       "        vertical-align: middle;\n",
       "    }\n",
       "\n",
       "    .dataframe tbody tr th {\n",
       "        vertical-align: top;\n",
       "    }\n",
       "\n",
       "    .dataframe thead th {\n",
       "        text-align: right;\n",
       "    }\n",
       "</style>\n",
       "<table border=\"1\" class=\"dataframe\">\n",
       "  <thead>\n",
       "    <tr style=\"text-align: right;\">\n",
       "      <th></th>\n",
       "      <th>관서명</th>\n",
       "      <th>주소</th>\n",
       "      <th>전화번호</th>\n",
       "      <th>안전센터</th>\n",
       "    </tr>\n",
       "  </thead>\n",
       "  <tbody>\n",
       "    <tr>\n",
       "      <th>0</th>\n",
       "      <td>동작소방서</td>\n",
       "      <td>서울특별시 동작구 여의대방로16길 55(신대방동)</td>\n",
       "      <td>02-847-1190</td>\n",
       "      <td>0</td>\n",
       "    </tr>\n",
       "    <tr>\n",
       "      <th>1</th>\n",
       "      <td>서대문소방서</td>\n",
       "      <td>서울특별시 서대문구 연희로 182(연희동)</td>\n",
       "      <td>02-3144-1190</td>\n",
       "      <td>0</td>\n",
       "    </tr>\n",
       "    <tr>\n",
       "      <th>2</th>\n",
       "      <td>광진소방서</td>\n",
       "      <td>서울특별시 광진구 광나루로 480(구의동)</td>\n",
       "      <td>02-457-0119</td>\n",
       "      <td>0</td>\n",
       "    </tr>\n",
       "    <tr>\n",
       "      <th>3</th>\n",
       "      <td>송파소방서</td>\n",
       "      <td>서울특별시 송파구 오금로51길 56(마천동)</td>\n",
       "      <td>02-403-2119</td>\n",
       "      <td>0</td>\n",
       "    </tr>\n",
       "    <tr>\n",
       "      <th>4</th>\n",
       "      <td>양천소방서</td>\n",
       "      <td>서울특별시 양천구 목동서로 180(목동)</td>\n",
       "      <td>02-2655-1119</td>\n",
       "      <td>0</td>\n",
       "    </tr>\n",
       "  </tbody>\n",
       "</table>\n",
       "</div>"
      ],
      "text/plain": [
       "      관서명                           주소          전화번호  안전센터\n",
       "0   동작소방서  서울특별시 동작구 여의대방로16길 55(신대방동)   02-847-1190     0\n",
       "1  서대문소방서      서울특별시 서대문구 연희로 182(연희동)  02-3144-1190     0\n",
       "2   광진소방서      서울특별시 광진구 광나루로 480(구의동)   02-457-0119     0\n",
       "3   송파소방서     서울특별시 송파구 오금로51길 56(마천동)   02-403-2119     0\n",
       "4   양천소방서       서울특별시 양천구 목동서로 180(목동)  02-2655-1119     0"
      ]
     },
     "execution_count": 43,
     "metadata": {},
     "output_type": "execute_result"
    }
   ],
   "source": [
    "df['안전센터'] = df.관서명.str.contains('안전센터').astype(int)\n",
    "df.head()"
   ]
  },
  {
   "cell_type": "code",
   "execution_count": 44,
   "metadata": {},
   "outputs": [
    {
     "data": {
      "text/html": [
       "<div>\n",
       "<style scoped>\n",
       "    .dataframe tbody tr th:only-of-type {\n",
       "        vertical-align: middle;\n",
       "    }\n",
       "\n",
       "    .dataframe tbody tr th {\n",
       "        vertical-align: top;\n",
       "    }\n",
       "\n",
       "    .dataframe thead th {\n",
       "        text-align: right;\n",
       "    }\n",
       "</style>\n",
       "<table border=\"1\" class=\"dataframe\">\n",
       "  <thead>\n",
       "    <tr style=\"text-align: right;\">\n",
       "      <th></th>\n",
       "      <th>관서명</th>\n",
       "      <th>주소</th>\n",
       "      <th>전화번호</th>\n",
       "      <th>안전센터</th>\n",
       "    </tr>\n",
       "  </thead>\n",
       "  <tbody>\n",
       "    <tr>\n",
       "      <th>95</th>\n",
       "      <td>송파소방서-운동장-119 안전센터</td>\n",
       "      <td>서울특별시 송파구 올림픽로 25 (잠실동)</td>\n",
       "      <td>02-2203-2380</td>\n",
       "      <td>1</td>\n",
       "    </tr>\n",
       "    <tr>\n",
       "      <th>96</th>\n",
       "      <td>송파소방서-잠실-119 안전센터</td>\n",
       "      <td>서울특별시 송파구 석촌호수로 151 (잠실동)</td>\n",
       "      <td>02-422-0119</td>\n",
       "      <td>1</td>\n",
       "    </tr>\n",
       "    <tr>\n",
       "      <th>97</th>\n",
       "      <td>송파소방서-방이-119 안전센터</td>\n",
       "      <td>서울특별시 송파구 강동대로 286 (방이동)</td>\n",
       "      <td>02-409-0059</td>\n",
       "      <td>1</td>\n",
       "    </tr>\n",
       "    <tr>\n",
       "      <th>98</th>\n",
       "      <td>송파소방서-거여-119 안전센터</td>\n",
       "      <td>서울특별시 송파구 마천로 329 (마천동)</td>\n",
       "      <td>02-400-0119</td>\n",
       "      <td>1</td>\n",
       "    </tr>\n",
       "    <tr>\n",
       "      <th>99</th>\n",
       "      <td>송파소방서-마천-119 안전센터</td>\n",
       "      <td>서울특별시 송파구 오금로51길 56 (마천동)</td>\n",
       "      <td>02-3401-2119</td>\n",
       "      <td>1</td>\n",
       "    </tr>\n",
       "  </tbody>\n",
       "</table>\n",
       "</div>"
      ],
      "text/plain": [
       "                   관서명                         주소          전화번호  안전센터\n",
       "95  송파소방서-운동장-119 안전센터    서울특별시 송파구 올림픽로 25 (잠실동)  02-2203-2380     1\n",
       "96   송파소방서-잠실-119 안전센터  서울특별시 송파구 석촌호수로 151 (잠실동)   02-422-0119     1\n",
       "97   송파소방서-방이-119 안전센터   서울특별시 송파구 강동대로 286 (방이동)   02-409-0059     1\n",
       "98   송파소방서-거여-119 안전센터    서울특별시 송파구 마천로 329 (마천동)   02-400-0119     1\n",
       "99   송파소방서-마천-119 안전센터  서울특별시 송파구 오금로51길 56 (마천동)  02-3401-2119     1"
      ]
     },
     "execution_count": 44,
     "metadata": {},
     "output_type": "execute_result"
    }
   ],
   "source": [
    "df.tail()"
   ]
  },
  {
   "cell_type": "code",
   "execution_count": null,
   "metadata": {},
   "outputs": [],
   "source": []
  }
 ],
 "metadata": {
  "interpreter": {
   "hash": "27cc1592400a49e29347d731bddc25ead99330001d369613af25ccd9674a593a"
  },
  "kernelspec": {
   "display_name": "Python 3.9.7 ('base')",
   "language": "python",
   "name": "python3"
  },
  "language_info": {
   "codemirror_mode": {
    "name": "ipython",
    "version": 3
   },
   "file_extension": ".py",
   "mimetype": "text/x-python",
   "name": "python",
   "nbconvert_exporter": "python",
   "pygments_lexer": "ipython3",
   "version": "3.9.7"
  },
  "orig_nbformat": 4
 },
 "nbformat": 4,
 "nbformat_minor": 2
}
