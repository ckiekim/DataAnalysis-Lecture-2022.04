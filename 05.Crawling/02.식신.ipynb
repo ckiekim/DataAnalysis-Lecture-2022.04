{
 "cells": [
  {
   "cell_type": "markdown",
   "metadata": {},
   "source": [
    "# 식신 - 신논현역"
   ]
  },
  {
   "cell_type": "code",
   "execution_count": 1,
   "metadata": {},
   "outputs": [],
   "source": [
    "import requests\n",
    "from urllib.parse import quote\n",
    "import pandas as pd\n",
    "from bs4 import BeautifulSoup"
   ]
  },
  {
   "cell_type": "markdown",
   "metadata": {},
   "source": [
    "### 1. 데이터 가져오기"
   ]
  },
  {
   "cell_type": "code",
   "execution_count": 11,
   "metadata": {},
   "outputs": [],
   "source": [
    "# https://www.siksinhot.com/ko/search?keywords=%EC%8B%A0%EB%85%BC%ED%98%84%EC%97%AD\n",
    "site = 'https://www.siksinhot.com/ko'\n",
    "url = f'{site}/search?keywords={quote(\"신논현역\")}'\n",
    "req = requests.get(url)\n",
    "html = req.text\n",
    "#html"
   ]
  },
  {
   "cell_type": "code",
   "execution_count": 12,
   "metadata": {},
   "outputs": [],
   "source": [
    "soup = BeautifulSoup(req.text, 'html.parser')"
   ]
  },
  {
   "cell_type": "markdown",
   "metadata": {},
   "source": [
    "### 2. 원하는 데이터 찾기"
   ]
  },
  {
   "cell_type": "code",
   "execution_count": 13,
   "metadata": {},
   "outputs": [
    {
     "data": {
      "text/plain": [
       "108"
      ]
     },
     "execution_count": 13,
     "metadata": {},
     "output_type": "execute_result"
    }
   ],
   "source": [
    "lis = soup.find_all('li')\n",
    "len(lis)"
   ]
  },
  {
   "cell_type": "code",
   "execution_count": 7,
   "metadata": {},
   "outputs": [
    {
     "data": {
      "text/plain": [
       "60"
      ]
     },
     "execution_count": 7,
     "metadata": {},
     "output_type": "execute_result"
    }
   ],
   "source": [
    "lis = soup.select_one('.listTy1').find_all('li')\n",
    "len(lis)"
   ]
  },
  {
   "cell_type": "code",
   "execution_count": 14,
   "metadata": {},
   "outputs": [
    {
     "data": {
      "text/plain": [
       "12"
      ]
     },
     "execution_count": 14,
     "metadata": {},
     "output_type": "execute_result"
    }
   ],
   "source": [
    "lis = soup.select('.listTy1 > ul > li')     # > 자식 tag\n",
    "len(lis)"
   ]
  },
  {
   "cell_type": "markdown",
   "metadata": {},
   "source": [
    "### 3. 하나를 선택해서 원하는 정보 추출\n",
    "- 상호, 평점, 위치, 메뉴"
   ]
  },
  {
   "cell_type": "code",
   "execution_count": 15,
   "metadata": {},
   "outputs": [],
   "source": [
    "li = lis[0]"
   ]
  },
  {
   "cell_type": "code",
   "execution_count": 17,
   "metadata": {},
   "outputs": [
    {
     "data": {
      "text/plain": [
       "'신마포갈매기 신논현역점'"
      ]
     },
     "execution_count": 17,
     "metadata": {},
     "output_type": "execute_result"
    }
   ],
   "source": [
    "store = li.select_one('.box_tit').get_text()\n",
    "store"
   ]
  },
  {
   "cell_type": "code",
   "execution_count": 23,
   "metadata": {},
   "outputs": [
    {
     "data": {
      "text/plain": [
       "3.0"
      ]
     },
     "execution_count": 23,
     "metadata": {},
     "output_type": "execute_result"
    }
   ],
   "source": [
    "# float(), int()로 변환하고자 할 때에는 반드시 예외처리를 해주어야 함\n",
    "try:\n",
    "    score = float(li.select_one('.score').get_text())\n",
    "except:\n",
    "    score = 0.0\n",
    "score"
   ]
  },
  {
   "cell_type": "code",
   "execution_count": 25,
   "metadata": {},
   "outputs": [
    {
     "data": {
      "text/plain": [
       "'신논현/영동시장'"
      ]
     },
     "execution_count": 25,
     "metadata": {},
     "output_type": "execute_result"
    }
   ],
   "source": [
    "place = li.select_one('.cnt > ul').get_text()\n",
    "place"
   ]
  },
  {
   "cell_type": "code",
   "execution_count": 27,
   "metadata": {},
   "outputs": [
    {
     "data": {
      "text/plain": [
       "'매콤갈매기, 마포갈매기, 삼겹살'"
      ]
     },
     "execution_count": 27,
     "metadata": {},
     "output_type": "execute_result"
    }
   ],
   "source": [
    "menu = li.select_one('.cnt > p').get_text()\n",
    "menu"
   ]
  },
  {
   "cell_type": "markdown",
   "metadata": {},
   "source": [
    "### 4. 반복문을 사용하여 페이지에 있는 데이터 가져오기"
   ]
  },
  {
   "cell_type": "code",
   "execution_count": 28,
   "metadata": {},
   "outputs": [],
   "source": [
    "line = []\n",
    "for li in lis:\n",
    "    store = li.select_one('.box_tit').get_text()\n",
    "    try:\n",
    "        score = float(li.select_one('.score').get_text())\n",
    "    except:\n",
    "        score = 0.0\n",
    "    place = li.select_one('.cnt > ul').get_text()\n",
    "    menu = li.select_one('.cnt > p').get_text()\n",
    "    line.append({'상호':store, '평점':score, '위치':place, '메뉴':menu})"
   ]
  },
  {
   "cell_type": "markdown",
   "metadata": {},
   "source": [
    "### 5. 오류 발생 - 오류 해결"
   ]
  },
  {
   "cell_type": "markdown",
   "metadata": {},
   "source": [
    "### 6. 모든 페이지에 대해 반복하기"
   ]
  },
  {
   "cell_type": "markdown",
   "metadata": {},
   "source": [
    "### 7. 데이터프레임으로 만들기"
   ]
  },
  {
   "cell_type": "code",
   "execution_count": 29,
   "metadata": {},
   "outputs": [
    {
     "data": {
      "text/html": [
       "<div>\n",
       "<style scoped>\n",
       "    .dataframe tbody tr th:only-of-type {\n",
       "        vertical-align: middle;\n",
       "    }\n",
       "\n",
       "    .dataframe tbody tr th {\n",
       "        vertical-align: top;\n",
       "    }\n",
       "\n",
       "    .dataframe thead th {\n",
       "        text-align: right;\n",
       "    }\n",
       "</style>\n",
       "<table border=\"1\" class=\"dataframe\">\n",
       "  <thead>\n",
       "    <tr style=\"text-align: right;\">\n",
       "      <th></th>\n",
       "      <th>상호</th>\n",
       "      <th>평점</th>\n",
       "      <th>위치</th>\n",
       "      <th>메뉴</th>\n",
       "    </tr>\n",
       "  </thead>\n",
       "  <tbody>\n",
       "    <tr>\n",
       "      <th>0</th>\n",
       "      <td>신마포갈매기 신논현역점</td>\n",
       "      <td>3.0</td>\n",
       "      <td>신논현/영동시장</td>\n",
       "      <td>매콤갈매기, 마포갈매기, 삼겹살</td>\n",
       "    </tr>\n",
       "    <tr>\n",
       "      <th>1</th>\n",
       "      <td>미즈컨테이너 강남 웨스트주차</td>\n",
       "      <td>4.2</td>\n",
       "      <td>강남역</td>\n",
       "      <td>샐러드 스파게티, 베이컨 포테이토 피자, 바베큐 치킨 플레이트, 할거면 제대로 오리...</td>\n",
       "    </tr>\n",
       "    <tr>\n",
       "      <th>2</th>\n",
       "      <td>강남교자 본점</td>\n",
       "      <td>4.2</td>\n",
       "      <td>강남역</td>\n",
       "      <td>칼국수, 교자만두, 완당떡국</td>\n",
       "    </tr>\n",
       "    <tr>\n",
       "      <th>3</th>\n",
       "      <td>봉피양제주 강남점</td>\n",
       "      <td>4.2</td>\n",
       "      <td>강남역</td>\n",
       "      <td>한우양곰탕, 봉피양 평양냉면, 한우채끝등심(100g), 한우갈비탕</td>\n",
       "    </tr>\n",
       "    <tr>\n",
       "      <th>4</th>\n",
       "      <td>카페마마스 강남역점</td>\n",
       "      <td>4.2</td>\n",
       "      <td>강남역</td>\n",
       "      <td>리코타치즈샐러드, 모짜렐라토마토파니니, 청포도주스, 마마스스프</td>\n",
       "    </tr>\n",
       "    <tr>\n",
       "      <th>5</th>\n",
       "      <td>리북집</td>\n",
       "      <td>4.1</td>\n",
       "      <td>신논현/영동시장</td>\n",
       "      <td>냉채족발 (특미), 족발 (앞발), 매운족발, 보쌈, 냉채해파리 추가</td>\n",
       "    </tr>\n",
       "    <tr>\n",
       "      <th>6</th>\n",
       "      <td>원강발렛</td>\n",
       "      <td>4.1</td>\n",
       "      <td>신논현/영동시장</td>\n",
       "      <td>꽃등심, 생등심, 갈비살, 무밥, 육사시미</td>\n",
       "    </tr>\n",
       "    <tr>\n",
       "      <th>7</th>\n",
       "      <td>마초쉐프 강남역점</td>\n",
       "      <td>4.4</td>\n",
       "      <td>신논현/영동시장</td>\n",
       "      <td>마초삼겹스테이크, 스텔라피자, 꽃게살로제리조또, 리코타치즈샐러드, 블루베리피자</td>\n",
       "    </tr>\n",
       "    <tr>\n",
       "      <th>8</th>\n",
       "      <td>도스타코스 강남역점</td>\n",
       "      <td>4.0</td>\n",
       "      <td>신논현/영동시장</td>\n",
       "      <td>소프트 타코, 빠스톨 타코, 아보카도 치미창가, 고기 라이스 부리또, 나쵸 피에스타</td>\n",
       "    </tr>\n",
       "    <tr>\n",
       "      <th>9</th>\n",
       "      <td>악바리</td>\n",
       "      <td>4.3</td>\n",
       "      <td>강남역</td>\n",
       "      <td>69cm계란말이, 석쇠불고기, 바싹 튀긴 옛날 치킨, 해물김치피자전, 얼큰한 해물 부추전</td>\n",
       "    </tr>\n",
       "    <tr>\n",
       "      <th>10</th>\n",
       "      <td>을밀대 강남점주차</td>\n",
       "      <td>4.0</td>\n",
       "      <td>강남역</td>\n",
       "      <td>물냉면, 비빔냉면, 녹두전, 수육, 홍어무침</td>\n",
       "    </tr>\n",
       "    <tr>\n",
       "      <th>11</th>\n",
       "      <td>도치피자 강남점주차</td>\n",
       "      <td>4.4</td>\n",
       "      <td>강남역</td>\n",
       "      <td>감베리 크레마, 감베리, 감베리에 풍기샐러드, 프리마베라, 스타피자</td>\n",
       "    </tr>\n",
       "  </tbody>\n",
       "</table>\n",
       "</div>"
      ],
      "text/plain": [
       "                 상호   평점        위치  \\\n",
       "0      신마포갈매기 신논현역점  3.0  신논현/영동시장   \n",
       "1   미즈컨테이너 강남 웨스트주차  4.2       강남역   \n",
       "2           강남교자 본점  4.2       강남역   \n",
       "3         봉피양제주 강남점  4.2       강남역   \n",
       "4        카페마마스 강남역점  4.2       강남역   \n",
       "5               리북집  4.1  신논현/영동시장   \n",
       "6              원강발렛  4.1  신논현/영동시장   \n",
       "7         마초쉐프 강남역점  4.4  신논현/영동시장   \n",
       "8        도스타코스 강남역점  4.0  신논현/영동시장   \n",
       "9               악바리  4.3       강남역   \n",
       "10        을밀대 강남점주차  4.0       강남역   \n",
       "11       도치피자 강남점주차  4.4       강남역   \n",
       "\n",
       "                                                   메뉴  \n",
       "0                                   매콤갈매기, 마포갈매기, 삼겹살  \n",
       "1   샐러드 스파게티, 베이컨 포테이토 피자, 바베큐 치킨 플레이트, 할거면 제대로 오리...  \n",
       "2                                     칼국수, 교자만두, 완당떡국  \n",
       "3                한우양곰탕, 봉피양 평양냉면, 한우채끝등심(100g), 한우갈비탕  \n",
       "4                  리코타치즈샐러드, 모짜렐라토마토파니니, 청포도주스, 마마스스프  \n",
       "5              냉채족발 (특미), 족발 (앞발), 매운족발, 보쌈, 냉채해파리 추가  \n",
       "6                             꽃등심, 생등심, 갈비살, 무밥, 육사시미  \n",
       "7         마초삼겹스테이크, 스텔라피자, 꽃게살로제리조또, 리코타치즈샐러드, 블루베리피자  \n",
       "8      소프트 타코, 빠스톨 타코, 아보카도 치미창가, 고기 라이스 부리또, 나쵸 피에스타  \n",
       "9   69cm계란말이, 석쇠불고기, 바싹 튀긴 옛날 치킨, 해물김치피자전, 얼큰한 해물 부추전  \n",
       "10                           물냉면, 비빔냉면, 녹두전, 수육, 홍어무침  \n",
       "11              감베리 크레마, 감베리, 감베리에 풍기샐러드, 프리마베라, 스타피자  "
      ]
     },
     "execution_count": 29,
     "metadata": {},
     "output_type": "execute_result"
    }
   ],
   "source": [
    "df = pd.DataFrame(line)\n",
    "df"
   ]
  },
  {
   "cell_type": "code",
   "execution_count": 31,
   "metadata": {},
   "outputs": [],
   "source": [
    "df.to_csv('식신맛집(신논현역).csv', index=False)"
   ]
  },
  {
   "cell_type": "code",
   "execution_count": null,
   "metadata": {},
   "outputs": [],
   "source": []
  }
 ],
 "metadata": {
  "interpreter": {
   "hash": "27cc1592400a49e29347d731bddc25ead99330001d369613af25ccd9674a593a"
  },
  "kernelspec": {
   "display_name": "Python 3.9.7 ('base')",
   "language": "python",
   "name": "python3"
  },
  "language_info": {
   "codemirror_mode": {
    "name": "ipython",
    "version": 3
   },
   "file_extension": ".py",
   "mimetype": "text/x-python",
   "name": "python",
   "nbconvert_exporter": "python",
   "pygments_lexer": "ipython3",
   "version": "3.9.7"
  },
  "orig_nbformat": 4
 },
 "nbformat": 4,
 "nbformat_minor": 2
}
