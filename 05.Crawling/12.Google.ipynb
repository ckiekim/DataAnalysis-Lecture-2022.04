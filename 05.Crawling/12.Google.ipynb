{
 "cells": [
  {
   "cell_type": "markdown",
   "metadata": {},
   "source": [
    "# Google 크롤링 - ChromeDriver 검색"
   ]
  },
  {
   "cell_type": "code",
   "execution_count": 3,
   "metadata": {},
   "outputs": [],
   "source": [
    "import requests\n",
    "from bs4 import BeautifulSoup"
   ]
  },
  {
   "cell_type": "code",
   "execution_count": 10,
   "metadata": {},
   "outputs": [],
   "source": [
    "# 동적인 데이터를 입력하고 결과를 얻어내기 힘들다.\n",
    "url = 'https://www.google.co.kr/'\n",
    "res = requests.get(url)\n",
    "soup = BeautifulSoup(res.text, 'html.parser')"
   ]
  },
  {
   "cell_type": "markdown",
   "metadata": {},
   "source": [
    "- Selenium 활용"
   ]
  },
  {
   "cell_type": "code",
   "execution_count": 9,
   "metadata": {},
   "outputs": [],
   "source": [
    "import time\n",
    "from selenium import webdriver\n",
    "from selenium.webdriver.common.keys import Keys"
   ]
  },
  {
   "cell_type": "code",
   "execution_count": 11,
   "metadata": {},
   "outputs": [],
   "source": [
    "driver = webdriver.Chrome('chromedriver.exe')\n",
    "driver.get(url)"
   ]
  },
  {
   "cell_type": "code",
   "execution_count": 12,
   "metadata": {},
   "outputs": [],
   "source": [
    "search_box = driver.find_element_by_name('q')\n",
    "search_box.send_keys('ChromeDriver')\n",
    "search_box.send_keys(Keys.ENTER)\n",
    "time.sleep(2)"
   ]
  },
  {
   "cell_type": "code",
   "execution_count": 13,
   "metadata": {},
   "outputs": [
    {
     "data": {
      "text/plain": [
       "9"
      ]
     },
     "execution_count": 13,
     "metadata": {},
     "output_type": "execute_result"
    }
   ],
   "source": [
    "divs = driver.find_elements_by_css_selector('#search .g')\n",
    "len(divs)"
   ]
  },
  {
   "cell_type": "code",
   "execution_count": 16,
   "metadata": {},
   "outputs": [
    {
     "data": {
      "text/plain": [
       "'ChromeDriver - WebDriver for Chrome - Downloads'"
      ]
     },
     "execution_count": 16,
     "metadata": {},
     "output_type": "execute_result"
    }
   ],
   "source": [
    "div = divs[0]\n",
    "title = div.find_element_by_css_selector('.LC20lb.MBeuO.DKV0Md').text\n",
    "title"
   ]
  },
  {
   "cell_type": "code",
   "execution_count": 18,
   "metadata": {},
   "outputs": [
    {
     "data": {
      "text/plain": [
       "'Current Releases · ChromeDriver 101.0.4951.15 · Supports Chrome version 10 · For more details, please see the · ChromeDriver 100.0.4896.60 · Supports Chrome version ...'"
      ]
     },
     "execution_count": 18,
     "metadata": {},
     "output_type": "execute_result"
    }
   ],
   "source": [
    "content = div.find_element_by_css_selector('.VwiC3b.yXK7lf.MUxGbd').text\n",
    "content"
   ]
  },
  {
   "cell_type": "code",
   "execution_count": 19,
   "metadata": {},
   "outputs": [],
   "source": [
    "lines = []\n",
    "for div in divs:\n",
    "    title = div.find_element_by_css_selector('.LC20lb.MBeuO.DKV0Md').text.strip()\n",
    "    content = div.find_element_by_css_selector('.VwiC3b.yXK7lf.MUxGbd').text.strip()\n",
    "    lines.append([title, content])"
   ]
  },
  {
   "cell_type": "code",
   "execution_count": 20,
   "metadata": {},
   "outputs": [
    {
     "data": {
      "text/html": [
       "<div>\n",
       "<style scoped>\n",
       "    .dataframe tbody tr th:only-of-type {\n",
       "        vertical-align: middle;\n",
       "    }\n",
       "\n",
       "    .dataframe tbody tr th {\n",
       "        vertical-align: top;\n",
       "    }\n",
       "\n",
       "    .dataframe thead th {\n",
       "        text-align: right;\n",
       "    }\n",
       "</style>\n",
       "<table border=\"1\" class=\"dataframe\">\n",
       "  <thead>\n",
       "    <tr style=\"text-align: right;\">\n",
       "      <th></th>\n",
       "      <th>제목</th>\n",
       "      <th>내용</th>\n",
       "    </tr>\n",
       "  </thead>\n",
       "  <tbody>\n",
       "    <tr>\n",
       "      <th>0</th>\n",
       "      <td>ChromeDriver - WebDriver for Chrome - Downloads</td>\n",
       "      <td>Current Releases · ChromeDriver 101.0.4951.15 ...</td>\n",
       "    </tr>\n",
       "    <tr>\n",
       "      <th>1</th>\n",
       "      <td>selenium) 설치하기! chromedriver 버전 오류 해결하기 - 블로그</td>\n",
       "      <td>여기에서 현재 사용중인 크롬의 버전과 일치하는 버전의 파일을 다운 받으시면 됩니다....</td>\n",
       "    </tr>\n",
       "    <tr>\n",
       "      <th>2</th>\n",
       "      <td>[Python] Selenium 사용법, ChromeDriver 설치 방법 - 아직...</td>\n",
       "      <td>2020. 2. 22. — Selenium이란?! · = 즉 자동화를 이용해서 여러...</td>\n",
       "    </tr>\n",
       "    <tr>\n",
       "      <th>3</th>\n",
       "      <td>Selenium으로 무적 크롤러 만들기</td>\n",
       "      <td>2017. 2. 27. — from selenium import webdriver ...</td>\n",
       "    </tr>\n",
       "    <tr>\n",
       "      <th>4</th>\n",
       "      <td>[ChromeDriver] 크롬 드라이버 버전에 따라 설정하는 방법</td>\n",
       "      <td>2020. 6. 9. — 어쩌고 버전입니다. 크롬드라이버 다운로드 사이트로 갑니다....</td>\n",
       "    </tr>\n",
       "    <tr>\n",
       "      <th>5</th>\n",
       "      <td>Install browser drivers | Selenium</td>\n",
       "      <td>2022. 3. 3. — Note: The Opera driver does not ...</td>\n",
       "    </tr>\n",
       "    <tr>\n",
       "      <th>6</th>\n",
       "      <td>ChromeDriver · SeleniumHQ/selenium Wiki - GitHub</td>\n",
       "      <td>2021. 12. 26. — ChromeDriver · Notice for User...</td>\n",
       "    </tr>\n",
       "    <tr>\n",
       "      <th>7</th>\n",
       "      <td>chromedriver - npm</td>\n",
       "      <td>2022. 3. 30. — ChromeDriver for Selenium. Late...</td>\n",
       "    </tr>\n",
       "    <tr>\n",
       "      <th>8</th>\n",
       "      <td>ChromeDriver</td>\n",
       "      <td>chromedriver false 100.0.4896.20/chromedriver_...</td>\n",
       "    </tr>\n",
       "  </tbody>\n",
       "</table>\n",
       "</div>"
      ],
      "text/plain": [
       "                                                  제목  \\\n",
       "0    ChromeDriver - WebDriver for Chrome - Downloads   \n",
       "1      selenium) 설치하기! chromedriver 버전 오류 해결하기 - 블로그   \n",
       "2  [Python] Selenium 사용법, ChromeDriver 설치 방법 - 아직...   \n",
       "3                              Selenium으로 무적 크롤러 만들기   \n",
       "4              [ChromeDriver] 크롬 드라이버 버전에 따라 설정하는 방법   \n",
       "5                 Install browser drivers | Selenium   \n",
       "6   ChromeDriver · SeleniumHQ/selenium Wiki - GitHub   \n",
       "7                                 chromedriver - npm   \n",
       "8                                       ChromeDriver   \n",
       "\n",
       "                                                  내용  \n",
       "0  Current Releases · ChromeDriver 101.0.4951.15 ...  \n",
       "1  여기에서 현재 사용중인 크롬의 버전과 일치하는 버전의 파일을 다운 받으시면 됩니다....  \n",
       "2  2020. 2. 22. — Selenium이란?! · = 즉 자동화를 이용해서 여러...  \n",
       "3  2017. 2. 27. — from selenium import webdriver ...  \n",
       "4  2020. 6. 9. — 어쩌고 버전입니다. 크롬드라이버 다운로드 사이트로 갑니다....  \n",
       "5  2022. 3. 3. — Note: The Opera driver does not ...  \n",
       "6  2021. 12. 26. — ChromeDriver · Notice for User...  \n",
       "7  2022. 3. 30. — ChromeDriver for Selenium. Late...  \n",
       "8  chromedriver false 100.0.4896.20/chromedriver_...  "
      ]
     },
     "execution_count": 20,
     "metadata": {},
     "output_type": "execute_result"
    }
   ],
   "source": [
    "import pandas as pd\n",
    "df = pd.DataFrame(lines, columns=['제목','내용'])\n",
    "df"
   ]
  },
  {
   "cell_type": "code",
   "execution_count": 21,
   "metadata": {},
   "outputs": [],
   "source": [
    "driver.close()"
   ]
  },
  {
   "cell_type": "code",
   "execution_count": null,
   "metadata": {},
   "outputs": [],
   "source": []
  }
 ],
 "metadata": {
  "interpreter": {
   "hash": "27cc1592400a49e29347d731bddc25ead99330001d369613af25ccd9674a593a"
  },
  "kernelspec": {
   "display_name": "Python 3.9.7 ('base')",
   "language": "python",
   "name": "python3"
  },
  "language_info": {
   "codemirror_mode": {
    "name": "ipython",
    "version": 3
   },
   "file_extension": ".py",
   "mimetype": "text/x-python",
   "name": "python",
   "nbconvert_exporter": "python",
   "pygments_lexer": "ipython3",
   "version": "3.9.7"
  },
  "orig_nbformat": 4
 },
 "nbformat": 4,
 "nbformat_minor": 2
}
