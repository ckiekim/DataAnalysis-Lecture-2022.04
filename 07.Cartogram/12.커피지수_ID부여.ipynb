{
 "cells": [
  {
   "cell_type": "markdown",
   "metadata": {},
   "source": [
    "# 커피지수 - Part 2\n",
    "### 2. ID 필드 도출"
   ]
  },
  {
   "cell_type": "code",
   "execution_count": 1,
   "metadata": {},
   "outputs": [],
   "source": [
    "import numpy as np\n",
    "import pandas as pd\n",
    "import warnings\n",
    "warnings.filterwarnings('ignore')"
   ]
  },
  {
   "cell_type": "code",
   "execution_count": 2,
   "metadata": {},
   "outputs": [],
   "source": [
    "starbucks = pd.read_csv('data/스타벅스.csv')\n",
    "coffeebean = pd.read_csv('data/커피빈.csv')\n",
    "ediya = pd.read_csv('data/이디야.csv')\n",
    "paik = pd.read_csv('data/빽다방.csv')"
   ]
  },
  {
   "cell_type": "code",
   "execution_count": 3,
   "metadata": {},
   "outputs": [],
   "source": [
    "# 고성군 - 고성(강원), 고성(경남)\n",
    "# 광역시 - 서울 용산, 서울 서대문, 대전 서구, 대전 유성, 세종\n",
    "# 행정구 - 수원 장안, 용인 수지, 고양 일산동, 창원 합포, 창원 회원\n",
    "tmp_gu_dict = {\n",
    "    '수원': ['장안구', '권선구', '팔달구', '영통구'], \n",
    "    '성남': ['수정구', '중원구', '분당구'], \n",
    "    '안양': ['만안구', '동안구'], \n",
    "    '안산': ['상록구', '단원구'], \n",
    "    '고양': ['덕양구', '일산동구', '일산서구'], \n",
    "    '용인': ['처인구', '기흥구', '수지구'], \n",
    "    '청주': ['상당구', '서원구', '흥덕구', '청원구'], \n",
    "    '천안': ['동남구', '서북구'], \n",
    "    '전주': ['완산구', '덕진구'], \n",
    "    '포항': ['남구', '북구'], \n",
    "    '창원': ['의창구', '성산구', '진해구', '마산합포구', '마산회원구']\n",
    "}"
   ]
  },
  {
   "cell_type": "code",
   "execution_count": 4,
   "metadata": {},
   "outputs": [],
   "source": [
    "metro_list = ['서울특별시','부산광역시','대구광역시','인천광역시','대전광역시','광주광역시','울산광역시']\n",
    "\n",
    "def get_ID(df):\n",
    "    si_name = [None] * len(df)\n",
    "    for i in df.index:\n",
    "        if df.시도명[i] in metro_list:\n",
    "            if len(df.시군구명[i]) == 2:\n",
    "                si_name[i] = df.시도명[i][:2] + ' ' + df.시군구명[i]      # 서울 중구, 대전 서구\n",
    "            else:\n",
    "                si_name[i] = df.시도명[i][:2] + ' ' + df.시군구명[i][:-1]      # 서울 용산, 서울 서대문\n",
    "        else:\n",
    "            si_len = len(df.시군구명[i].split())\n",
    "            if si_len == 1:\n",
    "                if df.시군구명[i][:-1] == '고성':\n",
    "                    if df.시도명[i] == '강원도':\n",
    "                        si_name[i] = '고성(강원)'\n",
    "                    else:\n",
    "                        si_name[i] = '고성(경남)'\n",
    "                elif df.시군구명[i].find('세종') == 0:\n",
    "                    si_name[i] = '세종'\n",
    "                else:\n",
    "                    si_name[i] = df.시군구명[i][:-1]         # 세종, 광명, 김포, 강릉\n",
    "            else:\n",
    "                for key, value in tmp_gu_dict.items():\n",
    "                    if df.시군구명[i] in value:\n",
    "                        if len(df.시군구명[i]) == 2:\n",
    "                            si_name[i] = key + ' ' + df.시군구명[i]      # 포항 북구, 포항 남구\n",
    "                        elif len(df.시군구명[i]) == 5:\n",
    "                            si_name[i] = key + ' ' + df.시군구명[i][2:-1]    # 창원 합포, 창원 회원\n",
    "                        else:\n",
    "                            si_name[i] = key + ' ' + df.시군구명[i][:-1]     # 수원 팔달, 용인 수지\n",
    "    return si_name"
   ]
  },
  {
   "cell_type": "code",
   "execution_count": null,
   "metadata": {},
   "outputs": [],
   "source": []
  }
 ],
 "metadata": {
  "interpreter": {
   "hash": "27cc1592400a49e29347d731bddc25ead99330001d369613af25ccd9674a593a"
  },
  "kernelspec": {
   "display_name": "Python 3.9.7 ('base')",
   "language": "python",
   "name": "python3"
  },
  "language_info": {
   "codemirror_mode": {
    "name": "ipython",
    "version": 3
   },
   "file_extension": ".py",
   "mimetype": "text/x-python",
   "name": "python",
   "nbconvert_exporter": "python",
   "pygments_lexer": "ipython3",
   "version": "3.9.7"
  },
  "orig_nbformat": 4
 },
 "nbformat": 4,
 "nbformat_minor": 2
}
