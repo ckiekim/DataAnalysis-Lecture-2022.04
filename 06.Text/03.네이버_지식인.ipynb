{
 "cells": [
  {
   "cell_type": "markdown",
   "metadata": {},
   "source": [
    "# 네이버 지식인 크롤링"
   ]
  },
  {
   "cell_type": "code",
   "execution_count": 1,
   "metadata": {},
   "outputs": [],
   "source": [
    "from selenium import webdriver\n",
    "from bs4 import BeautifulSoup\n",
    "import time\n",
    "from tqdm.notebook import tqdm\n",
    "from urllib.parse import quote"
   ]
  },
  {
   "cell_type": "code",
   "execution_count": 2,
   "metadata": {},
   "outputs": [],
   "source": [
    "chromedriver = '../05.Crawling/chromedriver.exe'\n",
    "driver = webdriver.Chrome(chromedriver)"
   ]
  },
  {
   "cell_type": "code",
   "execution_count": 3,
   "metadata": {},
   "outputs": [],
   "source": [
    "base_url = 'https://kin.naver.com/search/list.naver?query='\n",
    "url = base_url + quote('여친선물')\n",
    "driver.get(url)\n",
    "soup = BeautifulSoup(driver.page_source, 'html.parser')"
   ]
  },
  {
   "cell_type": "code",
   "execution_count": 4,
   "metadata": {},
   "outputs": [
    {
     "data": {
      "text/plain": [
       "10"
      ]
     },
     "execution_count": 4,
     "metadata": {},
     "output_type": "execute_result"
    }
   ],
   "source": [
    "lis = soup.select('ul.basic1 > li')\n",
    "len(lis)"
   ]
  },
  {
   "cell_type": "code",
   "execution_count": 5,
   "metadata": {},
   "outputs": [
    {
     "data": {
      "text/plain": [
       "'https://kin.naver.com/qna/detail.naver?d1id=8&dirId=80101&docId=395035694&qb=7Jes7Lmc7ISg66y8&enc=utf8&section=kin&rank=1&search_sort=0&spq=0'"
      ]
     },
     "execution_count": 5,
     "metadata": {},
     "output_type": "execute_result"
    }
   ],
   "source": [
    "li = lis[0]\n",
    "sub_url = li.select_one('a._searchListTitleAnchor')['href']\n",
    "sub_url"
   ]
  },
  {
   "cell_type": "code",
   "execution_count": 6,
   "metadata": {},
   "outputs": [],
   "source": [
    "driver.get(sub_url)\n",
    "time.sleep(2)"
   ]
  },
  {
   "cell_type": "code",
   "execution_count": 7,
   "metadata": {},
   "outputs": [
    {
     "name": "stdout",
     "output_type": "stream",
     "text": [
      "8 1\n"
     ]
    }
   ],
   "source": [
    "count = int(driver.find_element_by_css_selector('._answerCount.num').text)\n",
    "answer_page = (count - 1) // 5\n",
    "print(count, answer_page)"
   ]
  },
  {
   "cell_type": "code",
   "execution_count": 8,
   "metadata": {},
   "outputs": [],
   "source": [
    "for i in range(answer_page):\n",
    "    driver.find_element_by_id('nextPageButton').click()\n",
    "    time.sleep(2)"
   ]
  },
  {
   "cell_type": "code",
   "execution_count": 9,
   "metadata": {},
   "outputs": [
    {
     "data": {
      "text/plain": [
       "8"
      ]
     },
     "execution_count": 9,
     "metadata": {},
     "output_type": "execute_result"
    }
   ],
   "source": [
    "soup = BeautifulSoup(driver.page_source, 'html.parser')\n",
    "divs = soup.select('div.answer-content__item._contentWrap._answer')\n",
    "len(divs)"
   ]
  },
  {
   "cell_type": "code",
   "execution_count": 10,
   "metadata": {},
   "outputs": [
    {
     "name": "stdout",
     "output_type": "stream",
     "text": [
      "혹시 여친분이 생리통이 있으시다면..여친선물로 복부온열기 어떠세요?\n",
      "저 생리통 너무 심해서 이번에 남자친구가 복부온열기 선물줬는데..\n",
      "뭔가 감동이더라구요. 절 많이 생각해서 준 선물 같이 느껴지더라구요.\n",
      "하고있으면 배가 뜨듯하고 진동마사지도 해줘서 생리통 거의 안느껴지고 좋아요!!\n",
      "​\n",
      "제가 쓰는건 배뜨끈 복부온열기이예요. 아래에 링크알려드릴게요.\n",
      "좋은 여친선물이 되셨으면 좋겠네요.\n"
     ]
    }
   ],
   "source": [
    "div = divs[0]\n",
    "ps = div.select('p.se-text-paragraph')\n",
    "for p in ps:\n",
    "    print(p.get_text())"
   ]
  },
  {
   "cell_type": "code",
   "execution_count": 11,
   "metadata": {},
   "outputs": [
    {
     "data": {
      "text/plain": [
       "[]"
      ]
     },
     "execution_count": 11,
     "metadata": {},
     "output_type": "execute_result"
    }
   ],
   "source": [
    "divs[6].select('p.se-text-paragraph')"
   ]
  },
  {
   "cell_type": "code",
   "execution_count": 12,
   "metadata": {},
   "outputs": [],
   "source": [
    "driver.back()\n",
    "time.sleep(2)"
   ]
  },
  {
   "cell_type": "code",
   "execution_count": 13,
   "metadata": {},
   "outputs": [
    {
     "name": "stdout",
     "output_type": "stream",
     "text": [
      "8, 8\n",
      "10, 10\n",
      "7, 7\n",
      "12, 12\n",
      "14, 14\n",
      "9, 9\n",
      "1, 1\n",
      "4, 4\n",
      "1, 1\n",
      "8, 8\n"
     ]
    }
   ],
   "source": [
    "answer_list = []\n",
    "for li in lis:\n",
    "    sub_url = li.select_one('a._searchListTitleAnchor')['href']\n",
    "    driver.get(sub_url)\n",
    "    time.sleep(2)\n",
    "\n",
    "    count = int(driver.find_element_by_css_selector('._answerCount.num').text)\n",
    "    answer_page = (count - 1) // 5\n",
    "    print(count, end=', ')\n",
    "    for i in range(answer_page):\n",
    "        driver.find_element_by_id('nextPageButton').click()\n",
    "        time.sleep(2)\n",
    "\n",
    "    soup = BeautifulSoup(driver.page_source, 'html.parser')\n",
    "    divs = soup.select('div.answer-content__item._contentWrap._answer')\n",
    "    print(len(divs))\n",
    "    for div in divs:\n",
    "        ps = div.select('p.se-text-paragraph')\n",
    "        paragraph = ''\n",
    "        for p in ps:\n",
    "            text = p.get_text()\n",
    "            if text == ' ' or text == '\\u200b':\n",
    "                continue\n",
    "            paragraph += text + '\\n'\n",
    "        answer_list.append(paragraph)\n",
    "\n",
    "    driver.back()\n",
    "    time.sleep(2)"
   ]
  },
  {
   "cell_type": "code",
   "execution_count": 14,
   "metadata": {},
   "outputs": [
    {
     "data": {
      "text/plain": [
       "['',\n",
       " 'http://naver.me/GcjOelK6\\n커플템 추천해요!!가방이나 휴대폰에ㅣ 달면\\n의미있고 좋을거 같아요 ~ㅎㅎ\\n',\n",
       " '겨울이니까 머플러 어떠세요? 좋을 것 같아요 아니면 여자애들은 파자마도 좋아한답니다 ^^\\n',\n",
       " '의미 있는 선물은 어떠세요?\\n(광고이지만 정말 추천드립니다!!)\\n제품의 일부를 유기견 보호소에 후원하는\\n액세서리 유기 동물 기부 후원 브랜드 \"뽀뚜빠뚜\" 입니다.\\n10대~60대 상관 없이 남녀노소 데일리로 끼기에도 좋고 가격도 저렴합니다!\\n네이버에 \"뽀뚜빠뚜\" 입력 시 네이버 선물하기도 있어요!!\\n구경만이라도 해보세요:)\\n채택도...부탁드립니다 (◍•ᴗ•◍)❤\\nhttps://smartstore.naver.com/ppottuppttu\\n',\n",
       " '여자친구 선물 고민중이시군요!\\n선물로 탄생석팔찌 어떠신가요~?\\n여자친구분 태어난해에 맞춰서 보석고르셔서\\n드릴수 있으니 더 기억에 남고 좋은 선물이 될것 같습니다!\\n가격도 저렴해서 질문자님 부담도 덜 되실거구요!\\n몇가지 예쁜 제품 추천드려보겠습니다!\\nhttps://bit.ly/3CnbLXx\\nhttps://bit.ly/30rXgnZ\\nhttps://bit.ly/3Do7ynz\\nhttps://bit.ly/3oByQRp\\nhttps://bit.ly/3CoDXsQ\\nhttps://bit.ly/3FeL35g\\nhttps://bit.ly/3niF2OJ\\nhttps://bit.ly/30tGW6n\\nhttps://bit.ly/3wROtrJ\\nhttps://bit.ly/3cjwwsx\\nhttps://bit.ly/3FlyAN9\\nhttps://bit.ly/3ClSoy8\\nhttps://bit.ly/2YWK9Lg\\nhttps://bit.ly/3DoxTlH\\nhttps://bit.ly/3x6O8BH\\nhttps://bit.ly/2YSuk8e\\n추천상품이 마음에 드셨으면 좋겠네요!!\\n모쪼록 원하시는 상품 찾으시길 바라겠습니다!!\\n파트너스 활동을 통해 일정액의 수수료를 제공받을 수 있음\\n']"
      ]
     },
     "execution_count": 14,
     "metadata": {},
     "output_type": "execute_result"
    }
   ],
   "source": [
    "answer_list[50:55]"
   ]
  },
  {
   "cell_type": "markdown",
   "metadata": {},
   "source": [
    "- 1 ~ 10 페이지"
   ]
  },
  {
   "cell_type": "code",
   "execution_count": 15,
   "metadata": {},
   "outputs": [
    {
     "data": {
      "application/vnd.jupyter.widget-view+json": {
       "model_id": "e302b0a751684d6aa9118e09fa377192",
       "version_major": 2,
       "version_minor": 0
      },
      "text/plain": [
       "  0%|          | 0/10 [00:00<?, ?it/s]"
      ]
     },
     "metadata": {},
     "output_type": "display_data"
    }
   ],
   "source": [
    "answer_list = []\n",
    "for page in tqdm(range(1,11)):\n",
    "    url = f\"{base_url}{quote('여친선물')}&page={page}\"\n",
    "    driver.get(url)\n",
    "    time.sleep(2)\n",
    "\n",
    "    html = driver.page_source\n",
    "    soup = BeautifulSoup(html, 'html.parser')\n",
    "    lis = soup.select('ul.basic1 > li')\n",
    "\n",
    "    for li in lis:\n",
    "        sub_url = li.select_one('a._searchListTitleAnchor')['href']\n",
    "        driver.get(sub_url)\n",
    "        time.sleep(2)\n",
    "\n",
    "        count = int(driver.find_element_by_css_selector('._answerCount.num').text)\n",
    "        answer_page = (count - 1) // 5\n",
    "        for i in range(answer_page):\n",
    "            driver.find_element_by_id('nextPageButton').click()\n",
    "            time.sleep(2)\n",
    "\n",
    "        html = driver.page_source\n",
    "        soup = BeautifulSoup(html, 'html.parser')\n",
    "        divs = soup.select('div.answer-content__item._contentWrap._answer')\n",
    "        for div in divs:\n",
    "            ps = div.select('p.se-text-paragraph')\n",
    "            paragraph = ''\n",
    "            for p in ps:\n",
    "                text = p.get_text()\n",
    "                if text == ' ' or text == '\\u200b':\n",
    "                    continue\n",
    "                paragraph += text + '\\n'\n",
    "            answer_list.append(paragraph)\n",
    "\n",
    "        driver.back()\n",
    "        time.sleep(2)"
   ]
  },
  {
   "cell_type": "code",
   "execution_count": 16,
   "metadata": {},
   "outputs": [],
   "source": [
    "driver.close()"
   ]
  },
  {
   "cell_type": "code",
   "execution_count": 17,
   "metadata": {},
   "outputs": [
    {
     "data": {
      "text/plain": [
       "679"
      ]
     },
     "execution_count": 17,
     "metadata": {},
     "output_type": "execute_result"
    }
   ],
   "source": [
    "len(answer_list)"
   ]
  },
  {
   "cell_type": "code",
   "execution_count": 18,
   "metadata": {},
   "outputs": [
    {
     "data": {
      "text/plain": [
       "'목도리 추천드립니다\\n'"
      ]
     },
     "execution_count": 18,
     "metadata": {},
     "output_type": "execute_result"
    }
   ],
   "source": [
    "answer_list[100]"
   ]
  },
  {
   "cell_type": "code",
   "execution_count": 19,
   "metadata": {},
   "outputs": [],
   "source": [
    "with open('data/new_gift.txt', 'w', encoding='utf-8') as fp:\n",
    "    for answer in answer_list:\n",
    "        fp.write(answer+'\\n')"
   ]
  },
  {
   "cell_type": "code",
   "execution_count": null,
   "metadata": {},
   "outputs": [],
   "source": []
  }
 ],
 "metadata": {
  "interpreter": {
   "hash": "27cc1592400a49e29347d731bddc25ead99330001d369613af25ccd9674a593a"
  },
  "kernelspec": {
   "display_name": "Python 3.9.7 ('base')",
   "language": "python",
   "name": "python3"
  },
  "language_info": {
   "codemirror_mode": {
    "name": "ipython",
    "version": 3
   },
   "file_extension": ".py",
   "mimetype": "text/x-python",
   "name": "python",
   "nbconvert_exporter": "python",
   "pygments_lexer": "ipython3",
   "version": "3.9.7"
  },
  "orig_nbformat": 4
 },
 "nbformat": 4,
 "nbformat_minor": 2
}
