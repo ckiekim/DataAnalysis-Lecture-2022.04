{
 "cells": [
  {
   "cell_type": "markdown",
   "metadata": {},
   "source": [
    "# 네이버 지식인 크롤링"
   ]
  },
  {
   "cell_type": "code",
   "execution_count": 1,
   "metadata": {},
   "outputs": [],
   "source": [
    "from selenium import webdriver\n",
    "from bs4 import BeautifulSoup\n",
    "import time\n",
    "from tqdm.notebook import tqdm\n",
    "from urllib.parse import quote"
   ]
  },
  {
   "cell_type": "code",
   "execution_count": 2,
   "metadata": {},
   "outputs": [],
   "source": [
    "chromedriver = '../05.Crawling/chromedriver.exe'\n",
    "driver = webdriver.Chrome(chromedriver)"
   ]
  },
  {
   "cell_type": "code",
   "execution_count": 3,
   "metadata": {},
   "outputs": [],
   "source": [
    "base_url = 'https://kin.naver.com/search/list.naver?query='\n",
    "url = base_url + quote('여친선물')\n",
    "driver.get(url)\n",
    "soup = BeautifulSoup(driver.page_source, 'html.parser')"
   ]
  },
  {
   "cell_type": "code",
   "execution_count": 5,
   "metadata": {},
   "outputs": [
    {
     "data": {
      "text/plain": [
       "10"
      ]
     },
     "execution_count": 5,
     "metadata": {},
     "output_type": "execute_result"
    }
   ],
   "source": [
    "lis = soup.select('ul.basic1 > li')\n",
    "len(lis)"
   ]
  },
  {
   "cell_type": "code",
   "execution_count": 6,
   "metadata": {},
   "outputs": [
    {
     "data": {
      "text/plain": [
       "'https://kin.naver.com/qna/detail.naver?d1id=8&dirId=80101&docId=395035694&qb=7Jes7Lmc7ISg66y8&enc=utf8&section=kin&rank=1&search_sort=0&spq=0'"
      ]
     },
     "execution_count": 6,
     "metadata": {},
     "output_type": "execute_result"
    }
   ],
   "source": [
    "li = lis[0]\n",
    "sub_url = li.select_one('a._searchListTitleAnchor')['href']\n",
    "sub_url"
   ]
  },
  {
   "cell_type": "code",
   "execution_count": 13,
   "metadata": {},
   "outputs": [],
   "source": [
    "driver.get(sub_url)\n",
    "time.sleep(2)"
   ]
  },
  {
   "cell_type": "code",
   "execution_count": 14,
   "metadata": {},
   "outputs": [
    {
     "name": "stdout",
     "output_type": "stream",
     "text": [
      "8 1\n"
     ]
    }
   ],
   "source": [
    "count = int(driver.find_element_by_css_selector('._answerCount.num').text)\n",
    "answer_page = (count - 1) // 5\n",
    "print(count, answer_page)"
   ]
  },
  {
   "cell_type": "code",
   "execution_count": 15,
   "metadata": {},
   "outputs": [],
   "source": [
    "for i in range(answer_page):\n",
    "    driver.find_element_by_id('nextPageButton').click()\n",
    "    time.sleep(2)"
   ]
  },
  {
   "cell_type": "code",
   "execution_count": 16,
   "metadata": {},
   "outputs": [
    {
     "data": {
      "text/plain": [
       "8"
      ]
     },
     "execution_count": 16,
     "metadata": {},
     "output_type": "execute_result"
    }
   ],
   "source": [
    "soup = BeautifulSoup(driver.page_source, 'html.parser')\n",
    "divs = soup.select('div.answer-content__item._contentWrap._answer')\n",
    "len(divs)"
   ]
  },
  {
   "cell_type": "code",
   "execution_count": 17,
   "metadata": {},
   "outputs": [
    {
     "name": "stdout",
     "output_type": "stream",
     "text": [
      "혹시 여친분이 생리통이 있으시다면..여친선물로 복부온열기 어떠세요?\n",
      "저 생리통 너무 심해서 이번에 남자친구가 복부온열기 선물줬는데..\n",
      "뭔가 감동이더라구요. 절 많이 생각해서 준 선물 같이 느껴지더라구요.\n",
      "하고있으면 배가 뜨듯하고 진동마사지도 해줘서 생리통 거의 안느껴지고 좋아요!!\n",
      "​\n",
      "제가 쓰는건 배뜨끈 복부온열기이예요. 아래에 링크알려드릴게요.\n",
      "좋은 여친선물이 되셨으면 좋겠네요.\n"
     ]
    }
   ],
   "source": [
    "div = divs[0]\n",
    "ps = div.select('p.se-text-paragraph')\n",
    "for p in ps:\n",
    "    print(p.get_text())"
   ]
  },
  {
   "cell_type": "code",
   "execution_count": 19,
   "metadata": {},
   "outputs": [
    {
     "data": {
      "text/plain": [
       "[]"
      ]
     },
     "execution_count": 19,
     "metadata": {},
     "output_type": "execute_result"
    }
   ],
   "source": [
    "divs[6].select('p.se-text-paragraph')"
   ]
  },
  {
   "cell_type": "code",
   "execution_count": 20,
   "metadata": {},
   "outputs": [],
   "source": [
    "driver.back()\n",
    "time.sleep(2)"
   ]
  },
  {
   "cell_type": "code",
   "execution_count": 22,
   "metadata": {},
   "outputs": [
    {
     "name": "stdout",
     "output_type": "stream",
     "text": [
      "8, 8\n",
      "10, 10\n",
      "7, 7\n",
      "12, 12\n",
      "14, 14\n",
      "9, 9\n",
      "1, 1\n",
      "4, 4\n",
      "1, 1\n",
      "8, 8\n"
     ]
    }
   ],
   "source": [
    "answer_list = []\n",
    "for li in lis:\n",
    "    sub_url = li.select_one('a._searchListTitleAnchor')['href']\n",
    "    driver.get(sub_url)\n",
    "    time.sleep(2)\n",
    "\n",
    "    count = int(driver.find_element_by_css_selector('._answerCount.num').text)\n",
    "    answer_page = (count - 1) // 5\n",
    "    print(count, end=', ')\n",
    "    for i in range(answer_page):\n",
    "        driver.find_element_by_id('nextPageButton').click()\n",
    "        time.sleep(2)\n",
    "\n",
    "    soup = BeautifulSoup(driver.page_source, 'html.parser')\n",
    "    divs = soup.select('div.answer-content__item._contentWrap._answer')\n",
    "    print(len(divs))\n",
    "    for div in divs:\n",
    "        ps = div.select('p.se-text-paragraph')\n",
    "        paragraph = ''\n",
    "        for p in ps:\n",
    "            text = p.get_text()\n",
    "            if text == ' ' or text == '\\u200b':\n",
    "                continue\n",
    "            paragraph += text + '\\n'\n",
    "        answer_list.append(paragraph)\n",
    "\n",
    "    driver.back()\n",
    "    time.sleep(2)"
   ]
  },
  {
   "cell_type": "code",
   "execution_count": 23,
   "metadata": {},
   "outputs": [
    {
     "data": {
      "text/plain": [
       "['',\n",
       " 'http://naver.me/GcjOelK6\\n커플템 추천해요!!가방이나 휴대폰에ㅣ 달면\\n의미있고 좋을거 같아요 ~ㅎㅎ\\n',\n",
       " '겨울이니까 머플러 어떠세요? 좋을 것 같아요 아니면 여자애들은 파자마도 좋아한답니다 ^^\\n',\n",
       " '의미 있는 선물은 어떠세요?\\n(광고이지만 정말 추천드립니다!!)\\n제품의 일부를 유기견 보호소에 후원하는\\n액세서리 유기 동물 기부 후원 브랜드 \"뽀뚜빠뚜\" 입니다.\\n10대~60대 상관 없이 남녀노소 데일리로 끼기에도 좋고 가격도 저렴합니다!\\n네이버에 \"뽀뚜빠뚜\" 입력 시 네이버 선물하기도 있어요!!\\n구경만이라도 해보세요:)\\n채택도...부탁드립니다 (◍•ᴗ•◍)❤\\nhttps://smartstore.naver.com/ppottuppttu\\n',\n",
       " '여자친구 선물 고민중이시군요!\\n선물로 탄생석팔찌 어떠신가요~?\\n여자친구분 태어난해에 맞춰서 보석고르셔서\\n드릴수 있으니 더 기억에 남고 좋은 선물이 될것 같습니다!\\n가격도 저렴해서 질문자님 부담도 덜 되실거구요!\\n몇가지 예쁜 제품 추천드려보겠습니다!\\nhttps://bit.ly/3CnbLXx\\nhttps://bit.ly/30rXgnZ\\nhttps://bit.ly/3Do7ynz\\nhttps://bit.ly/3oByQRp\\nhttps://bit.ly/3CoDXsQ\\nhttps://bit.ly/3FeL35g\\nhttps://bit.ly/3niF2OJ\\nhttps://bit.ly/30tGW6n\\nhttps://bit.ly/3wROtrJ\\nhttps://bit.ly/3cjwwsx\\nhttps://bit.ly/3FlyAN9\\nhttps://bit.ly/3ClSoy8\\nhttps://bit.ly/2YWK9Lg\\nhttps://bit.ly/3DoxTlH\\nhttps://bit.ly/3x6O8BH\\nhttps://bit.ly/2YSuk8e\\n추천상품이 마음에 드셨으면 좋겠네요!!\\n모쪼록 원하시는 상품 찾으시길 바라겠습니다!!\\n파트너스 활동을 통해 일정액의 수수료를 제공받을 수 있음\\n',\n",
       " '팔찌 어떠세요??\\n디자인도 귀엽고 후원도 되는 기부팔찌요~\\n후원자 명단도 인스타그램에  올린다고 하니\\n여자친구분 이름으로 주문해서\\n여자친구 이름을 명단에 올리는 것도 뜻깊을 거 같아요~\\n여자친구 생일 겸 기부했다 이렇게 하면\\n저라면 좋아할 거 같아요\\nhttps://smartstore.naver.com/de_lemonmarket/products/5959730779\\n',\n",
       " '의미있는 기부반지는 어떠실까요?\\n현재 신생브랜드 TROIS에서 저소득층 청소년에게 생리대를 기부하기 위한 반지를 저렴한 가격에 판매하고 있습니다~\\n뜻깊기도 하고 패키지도 예뻐서 부담없이 많이 구매하고 계십니다! 빠른배송도 장담할게요~\\n스토어찜 1000원 할인 쿠폰에, 무료배송도 가능합니다!\\n관심있으시면 아래 링크 첨부할테니 한번 들러주세요!\\nhttps://smartstore.naver.com/troisdonationacc/products/5857532956\\nTROIS [취약계층 생리대 기부] 비즈반지 2종 세트 (v.3) : TROIS\\n[TROIS] 작은 마음들을 모아 소외계층 및 유기동물들에게 큰 사랑을 전달합니다.\\nsmartstore.naver.com\\n',\n",
       " '커플링 어떠세요~?\\n무조건 싼것보다 제대로된 반지가 좋습니다.\\n준샵 커플링을 추천합니다.\\n커플링을 사실때는 써지컬(스댕) 보다는\\n귀금속인 금 소재나 은 소재로 구매추천 합니다.\\n온라인으로만 파는곳 보다는 오프라인 온라인\\n같이 하는 곳이 무조건 훨씬 낫습니다.\\n사실때는 무조건 커플링 안쪽 부분이 매끄럽게\\n되는 반지를 사시는게 가장 좋습니다. 인터넷은\\n보통 사진만 예쁘지 받으면 얇거나 내구성이\\n형편이 없고 반지 안쪽메움이 되어있는데도\\n날카롭고 약한반지가 많으며 경력 또한 20년\\n되었다고 뻥튀기도 많이 합니다. 가성비를\\n생각하시면 준샵을 저는 추천합니다. 드라마\\n협찬도 하고 오래된 가게고 반지 자체가\\n부드러운 반지로 유명합니다. 안쪽메움도\\n기본적으로 되어있고 + 반지가 날카롭지 않게\\n360도 부드럽게 더 세공을 합니다. 준샵\\n반지자체가 부드럽다고 생각하시면 됩니다.\\nAS도 깔끔하고 한번사면 오래낍니다.\\n싼것보다는 제대로 된 반지를 추천합니다.\\n',\n",
       " '',\n",
       " '']"
      ]
     },
     "execution_count": 23,
     "metadata": {},
     "output_type": "execute_result"
    }
   ],
   "source": [
    "answer_list[50:60]"
   ]
  },
  {
   "cell_type": "markdown",
   "metadata": {},
   "source": [
    "- 1 ~ 10 페이지"
   ]
  },
  {
   "cell_type": "code",
   "execution_count": 24,
   "metadata": {},
   "outputs": [
    {
     "data": {
      "application/vnd.jupyter.widget-view+json": {
       "model_id": "946b300aaad34767bbb090de15c37ca6",
       "version_major": 2,
       "version_minor": 0
      },
      "text/plain": [
       "  0%|          | 0/10 [00:00<?, ?it/s]"
      ]
     },
     "metadata": {},
     "output_type": "display_data"
    },
    {
     "ename": "KeyboardInterrupt",
     "evalue": "",
     "output_type": "error",
     "traceback": [
      "\u001b[1;31m---------------------------------------------------------------------------\u001b[0m",
      "\u001b[1;31mKeyboardInterrupt\u001b[0m                         Traceback (most recent call last)",
      "\u001b[1;32m~\\AppData\\Local\\Temp/ipykernel_10280/4185448055.py\u001b[0m in \u001b[0;36m<module>\u001b[1;34m\u001b[0m\n\u001b[0;32m     12\u001b[0m         \u001b[0msub_url\u001b[0m \u001b[1;33m=\u001b[0m \u001b[0mli\u001b[0m\u001b[1;33m.\u001b[0m\u001b[0mselect_one\u001b[0m\u001b[1;33m(\u001b[0m\u001b[1;34m'a._searchListTitleAnchor'\u001b[0m\u001b[1;33m)\u001b[0m\u001b[1;33m[\u001b[0m\u001b[1;34m'href'\u001b[0m\u001b[1;33m]\u001b[0m\u001b[1;33m\u001b[0m\u001b[1;33m\u001b[0m\u001b[0m\n\u001b[0;32m     13\u001b[0m         \u001b[0mdriver\u001b[0m\u001b[1;33m.\u001b[0m\u001b[0mget\u001b[0m\u001b[1;33m(\u001b[0m\u001b[0msub_url\u001b[0m\u001b[1;33m)\u001b[0m\u001b[1;33m\u001b[0m\u001b[1;33m\u001b[0m\u001b[0m\n\u001b[1;32m---> 14\u001b[1;33m         \u001b[0mtime\u001b[0m\u001b[1;33m.\u001b[0m\u001b[0msleep\u001b[0m\u001b[1;33m(\u001b[0m\u001b[1;36m2\u001b[0m\u001b[1;33m)\u001b[0m\u001b[1;33m\u001b[0m\u001b[1;33m\u001b[0m\u001b[0m\n\u001b[0m\u001b[0;32m     15\u001b[0m \u001b[1;33m\u001b[0m\u001b[0m\n\u001b[0;32m     16\u001b[0m         \u001b[0mcount\u001b[0m \u001b[1;33m=\u001b[0m \u001b[0mint\u001b[0m\u001b[1;33m(\u001b[0m\u001b[0mdriver\u001b[0m\u001b[1;33m.\u001b[0m\u001b[0mfind_element_by_css_selector\u001b[0m\u001b[1;33m(\u001b[0m\u001b[1;34m'._answerCount.num'\u001b[0m\u001b[1;33m)\u001b[0m\u001b[1;33m.\u001b[0m\u001b[0mtext\u001b[0m\u001b[1;33m)\u001b[0m\u001b[1;33m\u001b[0m\u001b[1;33m\u001b[0m\u001b[0m\n",
      "\u001b[1;31mKeyboardInterrupt\u001b[0m: "
     ]
    }
   ],
   "source": [
    "answer_list = []\n",
    "for page in tqdm(range(1,11)):\n",
    "    url = f\"{base_url}{quote('여친선물')}&page={page}\"\n",
    "    driver.get(url)\n",
    "    time.sleep(2)\n",
    "\n",
    "    html = driver.page_source\n",
    "    soup = BeautifulSoup(html, 'html.parser')\n",
    "    lis = soup.select('ul.basic1 > li')\n",
    "\n",
    "    for li in lis:\n",
    "        sub_url = li.select_one('a._searchListTitleAnchor')['href']\n",
    "        driver.get(sub_url)\n",
    "        time.sleep(2)\n",
    "\n",
    "        count = int(driver.find_element_by_css_selector('._answerCount.num').text)\n",
    "        answer_page = (count - 1) // 5\n",
    "        for i in range(answer_page):\n",
    "            driver.find_element_by_id('nextPageButton').click()\n",
    "            time.sleep(2)\n",
    "\n",
    "        html = driver.page_source\n",
    "        soup = BeautifulSoup(html, 'html.parser')\n",
    "        divs = soup.select('div.answer-content__item._contentWrap._answer')\n",
    "        for div in divs:\n",
    "            ps = div.select('p.se-text-paragraph')\n",
    "            paragraph = ''\n",
    "            for p in ps:\n",
    "                text = p.get_text()\n",
    "                if text == ' ' or text == '\\u200b':\n",
    "                    continue\n",
    "                paragraph += text + '\\n'\n",
    "            answer_list.append(paragraph)\n",
    "\n",
    "        driver.back()\n",
    "        time.sleep(2)"
   ]
  },
  {
   "cell_type": "code",
   "execution_count": 25,
   "metadata": {},
   "outputs": [],
   "source": [
    "driver.close()"
   ]
  },
  {
   "cell_type": "code",
   "execution_count": 26,
   "metadata": {},
   "outputs": [
    {
     "data": {
      "text/plain": [
       "223"
      ]
     },
     "execution_count": 26,
     "metadata": {},
     "output_type": "execute_result"
    }
   ],
   "source": [
    "len(answer_list)"
   ]
  },
  {
   "cell_type": "code",
   "execution_count": 27,
   "metadata": {},
   "outputs": [
    {
     "data": {
      "text/plain": [
       "'혹시 여친분이 생리통이 있으시다면..여친선물로 복부온열기 어떠세요?\\n저 생리통 너무 심해서 이번에 남자친구가 복부온열기 선물줬는데..\\n뭔가 감동이더라구요. 절 많이 생각해서 준 선물 같이 느껴지더라구요.\\n하고있으면 배가 뜨듯하고 진동마사지도 해줘서 생리통 거의 안느껴지고 좋아요!!\\n제가 쓰는건 배뜨끈 복부온열기이예요. 아래에 링크알려드릴게요.\\n좋은 여친선물이 되셨으면 좋겠네요.\\n'"
      ]
     },
     "execution_count": 27,
     "metadata": {},
     "output_type": "execute_result"
    }
   ],
   "source": [
    "answer_list[0]"
   ]
  },
  {
   "cell_type": "code",
   "execution_count": 28,
   "metadata": {},
   "outputs": [],
   "source": [
    "with open('data/new_gift.txt', 'w', encoding='utf-8') as fp:\n",
    "    for answer in answer_list:\n",
    "        fp.write(answer+'\\n')"
   ]
  },
  {
   "cell_type": "code",
   "execution_count": null,
   "metadata": {},
   "outputs": [],
   "source": []
  }
 ],
 "metadata": {
  "interpreter": {
   "hash": "27cc1592400a49e29347d731bddc25ead99330001d369613af25ccd9674a593a"
  },
  "kernelspec": {
   "display_name": "Python 3.9.7 ('base')",
   "language": "python",
   "name": "python3"
  },
  "language_info": {
   "codemirror_mode": {
    "name": "ipython",
    "version": 3
   },
   "file_extension": ".py",
   "mimetype": "text/x-python",
   "name": "python",
   "nbconvert_exporter": "python",
   "pygments_lexer": "ipython3",
   "version": "3.9.7"
  },
  "orig_nbformat": 4
 },
 "nbformat": 4,
 "nbformat_minor": 2
}
